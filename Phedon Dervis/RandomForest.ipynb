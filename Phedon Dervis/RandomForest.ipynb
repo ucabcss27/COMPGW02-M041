{
 "cells": [
  {
   "cell_type": "code",
   "execution_count": 46,
   "metadata": {
    "collapsed": true
   },
   "outputs": [],
   "source": [
    "import numpy as np\n",
    "import pandas as pd\n",
    "import matplotlib.pyplot as plt\n",
    "import sklearn\n",
    "from sklearn.preprocessing import StandardScaler\n",
    "from sklearn.naive_bayes import GaussianNB\n",
    "from sklearn.linear_model import LogisticRegression\n",
    "from sklearn import metrics\n",
    "from sklearn.metrics import accuracy_score\n",
    "from sklearn.metrics import roc_auc_score\n",
    "from sklearn.metrics import log_loss\n",
    "from sklearn.metrics import classification_report,confusion_matrix\n",
    "from sklearn.ensemble import RandomForestClassifier"
   ]
  },
  {
   "cell_type": "code",
   "execution_count": 2,
   "metadata": {
    "collapsed": true
   },
   "outputs": [],
   "source": [
    "df_train = pd.read_csv('train.csv')\n",
    "df_val = pd.read_csv('validation.csv')"
   ]
  },
  {
   "cell_type": "code",
   "execution_count": 3,
   "metadata": {
    "collapsed": true
   },
   "outputs": [],
   "source": [
    "x_train = df_train.drop(['click'],axis=1)\n",
    "y_train = df_train['click']"
   ]
  },
  {
   "cell_type": "code",
   "execution_count": 4,
   "metadata": {
    "collapsed": true
   },
   "outputs": [],
   "source": [
    "y_val = df_val['click']\n",
    "x_val = df_val.drop(['click'],axis=1)"
   ]
  },
  {
   "cell_type": "code",
   "execution_count": 5,
   "metadata": {
    "collapsed": true
   },
   "outputs": [],
   "source": [
    "def preprocess_dataframe(x):\n",
    "    \n",
    "    # Drop unrequired features\n",
    "    x = x.drop(['bidid','userid','IP','domain','url','urlid','slotid','slotprice','creative','bidprice','payprice','keypage'],axis=1)\n",
    "    \n",
    "    # Split user agent into two features, platform and browser\n",
    "    x['platform'] = x['useragent'].map(lambda x: str(x).split('_')[0])   \n",
    "    x['browser'] = x['useragent'].map(lambda x: str(x).split('_')[1])\n",
    "    \n",
    "    # Drop User Agent\n",
    "    x = x.drop(['useragent'],axis=1)\n",
    "    \n",
    "    x = x.join(x['usertag'].str.get_dummies(','))\n",
    "    \n",
    "    # Drop User Tag\n",
    "    x = x.drop(['usertag'],axis=1)\n",
    "    \n",
    "    x.loc[x['slotvisibility'] == 'FirstView', 'slotvisibility'] = 1\n",
    "    x.loc[x['slotvisibility'] == 'SecondView', 'slotvisibility'] = 2\n",
    "    x.loc[x['slotvisibility'] == 'ThirdView', 'slotvisibility'] = 3\n",
    "    x.loc[x['slotvisibility'] == 'FourthView', 'slotvisibility'] = 4\n",
    "    x.loc[x['slotvisibility'] == 'FifthView', 'slotvisibility'] = 5\n",
    "    x.loc[x['slotvisibility'] == 'OtherView', 'slotvisibility'] = 6\n",
    "    x.loc[x['slotvisibility'] == 'Na', 'slotvisibility'] = 0\n",
    "    x.loc[x['slotvisibility'] == '255', 'slotvisibility'] = 255\n",
    "    \n",
    "    x['adexchange'].fillna(0,inplace=True)\n",
    "    \n",
    "    x = x.join(pd.get_dummies(x['weekday'],prefix='weekday'))\n",
    "    x = x.join(pd.get_dummies(x['hour'],prefix='hour'))\n",
    "    x = x.join(pd.get_dummies(x['region'],prefix='region'))\n",
    "    x = x.join(pd.get_dummies(x['city'],prefix='city'))\n",
    "    x = x.join(pd.get_dummies(x['adexchange'],prefix='adexchange'))\n",
    "    x = x.join(pd.get_dummies(x['slotwidth'],prefix='slotwidth'))\n",
    "    x = x.join(pd.get_dummies(x['slotheight'],prefix='slotheight'))\n",
    "    x = x.join(pd.get_dummies(x['slotvisibility'],prefix='slotvisibility'))\n",
    "    x = x.join(pd.get_dummies(x['slotformat'],prefix='slotformat'))\n",
    "    x = x.join(pd.get_dummies(x['advertiser'],prefix='advertiser'))\n",
    "    x = x.join(pd.get_dummies(x['platform'],prefix='platform'))\n",
    "    x = x.join(pd.get_dummies(x['browser'],prefix='browser'))\n",
    "    \n",
    "    \n",
    "    # Drop unrequired features\n",
    "    x = x.drop(['weekday','hour','region','city','adexchange','slotwidth','slotheight','slotvisibility','slotformat','advertiser','platform','browser'],axis=1)\n",
    "    \n",
    "    \n",
    "#     x = x.join(x['weekday'].get_dummies())\n",
    "#     x = x.join(x['hour'].get_dummies())\n",
    "#     x = x.join(x['region'].get_dummies())\n",
    "#     x = x.join(x['city'].get_dummies())\n",
    "#     x = x.join(x['adexchange'].str.get_dummies())\n",
    "#     x = x.join(x['slotwidth'].get_dummies())\n",
    "#     x = x.join(x['slotheight'].get_dummies())\n",
    "#     x = x.join(x['slotvisibility'].str.get_dummies())\n",
    "#     x = x.join(x['slotformat'].str.get_dummies())\n",
    "#     x = x.join(x['advertiser'].get_dummies())\n",
    "#     x = x.join(x['platform'].str.get_dummies())\n",
    "#     x = x.join(x['browser'].str.get_dummies())\n",
    "    \n",
    "    print('Data Preprocessed')\n",
    "\n",
    "    return x"
   ]
  },
  {
   "cell_type": "code",
   "execution_count": 6,
   "metadata": {},
   "outputs": [
    {
     "name": "stdout",
     "output_type": "stream",
     "text": [
      "Data Preprocessed\n"
     ]
    }
   ],
   "source": [
    "X_train = preprocess_dataframe(x_train)"
   ]
  },
  {
   "cell_type": "code",
   "execution_count": 7,
   "metadata": {},
   "outputs": [
    {
     "name": "stdout",
     "output_type": "stream",
     "text": [
      "Data Preprocessed\n"
     ]
    }
   ],
   "source": [
    "X_val = preprocess_dataframe(x_val)"
   ]
  },
  {
   "cell_type": "markdown",
   "metadata": {},
   "source": [
    "## Undersampled RF"
   ]
  },
  {
   "cell_type": "code",
   "execution_count": 8,
   "metadata": {
    "collapsed": true
   },
   "outputs": [],
   "source": [
    "from imblearn.under_sampling import RandomUnderSampler\n",
    "\n",
    "rus = RandomUnderSampler(return_indices=True)\n",
    "X_resampled, y_resampled, idx_resampled = rus.fit_sample(X_train,y_train)"
   ]
  },
  {
   "cell_type": "code",
   "execution_count": 9,
   "metadata": {
    "collapsed": true
   },
   "outputs": [],
   "source": [
    "rfclassifier = RandomForestClassifier(n_estimators=200,max_depth=5,criterion='entropy',bootstrap=False,min_samples_split=10,warm_start=False,class_weight='balanced')"
   ]
  },
  {
   "cell_type": "code",
   "execution_count": 10,
   "metadata": {},
   "outputs": [
    {
     "data": {
      "text/plain": [
       "RandomForestClassifier(bootstrap=False, class_weight='balanced',\n",
       "            criterion='entropy', max_depth=5, max_features='auto',\n",
       "            max_leaf_nodes=None, min_impurity_decrease=0.0,\n",
       "            min_impurity_split=None, min_samples_leaf=1,\n",
       "            min_samples_split=10, min_weight_fraction_leaf=0.0,\n",
       "            n_estimators=200, n_jobs=1, oob_score=False, random_state=None,\n",
       "            verbose=0, warm_start=False)"
      ]
     },
     "execution_count": 10,
     "metadata": {},
     "output_type": "execute_result"
    }
   ],
   "source": [
    "rfclassifier.fit(X_resampled, y_resampled)"
   ]
  },
  {
   "cell_type": "code",
   "execution_count": 11,
   "metadata": {
    "collapsed": true
   },
   "outputs": [],
   "source": [
    "usy_pred = rfclassifier.predict(X_val)"
   ]
  },
  {
   "cell_type": "code",
   "execution_count": 12,
   "metadata": {},
   "outputs": [
    {
     "data": {
      "text/plain": [
       "array([0, 0, 0, ..., 0, 0, 0])"
      ]
     },
     "execution_count": 12,
     "metadata": {},
     "output_type": "execute_result"
    }
   ],
   "source": [
    "usy_pred"
   ]
  },
  {
   "cell_type": "code",
   "execution_count": 14,
   "metadata": {},
   "outputs": [
    {
     "name": "stdout",
     "output_type": "stream",
     "text": [
      "AUC: 0.758365230395\n",
      "Cross Entropy 2.50769175777\n",
      "Completed.\n"
     ]
    }
   ],
   "source": [
    "def evaluate(y_true, y_pred):\n",
    "    print(\"AUC: \" + str(roc_auc_score(y_true, y_pred)))\n",
    "    print(\"Cross Entropy \" + str(log_loss(y_true, y_pred)))\n",
    "    return print('Completed.')\n",
    "\n",
    "evaluate(y_val, usy_pred)"
   ]
  },
  {
   "cell_type": "code",
   "execution_count": 15,
   "metadata": {},
   "outputs": [
    {
     "name": "stdout",
     "output_type": "stream",
     "text": [
      "RMSE: 0.26945025208427015\n"
     ]
    }
   ],
   "source": [
    "from sklearn.metrics import mean_squared_error\n",
    "from math import sqrt\n",
    "\n",
    "rms = sqrt(mean_squared_error(y_val, usy_pred))\n",
    "print('RMSE:',rms)"
   ]
  },
  {
   "cell_type": "code",
   "execution_count": 248,
   "metadata": {},
   "outputs": [
    {
     "data": {
      "text/html": [
       "<div>\n",
       "<style>\n",
       "    .dataframe thead tr:only-child th {\n",
       "        text-align: right;\n",
       "    }\n",
       "\n",
       "    .dataframe thead th {\n",
       "        text-align: left;\n",
       "    }\n",
       "\n",
       "    .dataframe tbody tr th {\n",
       "        vertical-align: top;\n",
       "    }\n",
       "</style>\n",
       "<table border=\"1\" class=\"dataframe\">\n",
       "  <thead>\n",
       "    <tr style=\"text-align: right;\">\n",
       "      <th></th>\n",
       "      <th>Predicted False</th>\n",
       "      <th>Predicted True</th>\n",
       "    </tr>\n",
       "  </thead>\n",
       "  <tbody>\n",
       "    <tr>\n",
       "      <th>Actual False</th>\n",
       "      <td>284904</td>\n",
       "      <td>18819</td>\n",
       "    </tr>\n",
       "    <tr>\n",
       "      <th>Actual True</th>\n",
       "      <td>108</td>\n",
       "      <td>94</td>\n",
       "    </tr>\n",
       "  </tbody>\n",
       "</table>\n",
       "</div>"
      ],
      "text/plain": [
       "              Predicted False  Predicted True\n",
       "Actual False           284904           18819\n",
       "Actual True               108              94"
      ]
     },
     "metadata": {},
     "output_type": "display_data"
    }
   ],
   "source": [
    "from sklearn.metrics import confusion_matrix\n",
    "\n",
    "confusion_matrix = pd.DataFrame(\n",
    "    confusion_matrix(y_val,usy_pred), \n",
    "    columns=[\"Predicted False\", \"Predicted True\"], \n",
    "    index=[\"Actual False\", \"Actual True\"]\n",
    ")\n",
    "display(confusion_matrix)"
   ]
  },
  {
   "cell_type": "markdown",
   "metadata": {},
   "source": [
    "## No sampling"
   ]
  },
  {
   "cell_type": "code",
   "execution_count": 25,
   "metadata": {
    "collapsed": true
   },
   "outputs": [],
   "source": [
    "classifier = RandomForestClassifier(n_estimators=20,max_depth=100,class_weight='balanced',criterion='entropy',bootstrap=False,min_samples_split=10)"
   ]
  },
  {
   "cell_type": "code",
   "execution_count": 26,
   "metadata": {},
   "outputs": [
    {
     "data": {
      "text/plain": [
       "RandomForestClassifier(bootstrap=False, class_weight='balanced',\n",
       "            criterion='entropy', max_depth=100, max_features='auto',\n",
       "            max_leaf_nodes=None, min_impurity_decrease=0.0,\n",
       "            min_impurity_split=None, min_samples_leaf=1,\n",
       "            min_samples_split=10, min_weight_fraction_leaf=0.0,\n",
       "            n_estimators=20, n_jobs=1, oob_score=False, random_state=None,\n",
       "            verbose=0, warm_start=False)"
      ]
     },
     "execution_count": 26,
     "metadata": {},
     "output_type": "execute_result"
    }
   ],
   "source": [
    "classifier.fit(X_train, y_train)"
   ]
  },
  {
   "cell_type": "code",
   "execution_count": 27,
   "metadata": {
    "collapsed": true
   },
   "outputs": [],
   "source": [
    "y_pred = classifier.predict(X_val)"
   ]
  },
  {
   "cell_type": "code",
   "execution_count": 28,
   "metadata": {},
   "outputs": [
    {
     "data": {
      "text/plain": [
       "array([0, 0, 0, ..., 0, 0, 0])"
      ]
     },
     "execution_count": 28,
     "metadata": {},
     "output_type": "execute_result"
    }
   ],
   "source": [
    "y_pred"
   ]
  },
  {
   "cell_type": "code",
   "execution_count": 29,
   "metadata": {},
   "outputs": [
    {
     "name": "stdout",
     "output_type": "stream",
     "text": [
      "AUC: 0.553270155\n",
      "Cross Entropy 0.102280083789\n",
      "Completed.\n"
     ]
    }
   ],
   "source": [
    "evaluate(y_val,y_pred)"
   ]
  },
  {
   "cell_type": "code",
   "execution_count": 30,
   "metadata": {},
   "outputs": [
    {
     "name": "stdout",
     "output_type": "stream",
     "text": [
      "RMSE: 0.05441743184895006\n"
     ]
    }
   ],
   "source": [
    "from sklearn.metrics import mean_squared_error\n",
    "from math import sqrt\n",
    "\n",
    "rms = sqrt(mean_squared_error(y_val, y_pred))\n",
    "print('RMSE:',rms)"
   ]
  },
  {
   "cell_type": "code",
   "execution_count": 31,
   "metadata": {},
   "outputs": [
    {
     "data": {
      "text/html": [
       "<div>\n",
       "<style>\n",
       "    .dataframe thead tr:only-child th {\n",
       "        text-align: right;\n",
       "    }\n",
       "\n",
       "    .dataframe thead th {\n",
       "        text-align: left;\n",
       "    }\n",
       "\n",
       "    .dataframe tbody tr th {\n",
       "        vertical-align: top;\n",
       "    }\n",
       "</style>\n",
       "<table border=\"1\" class=\"dataframe\">\n",
       "  <thead>\n",
       "    <tr style=\"text-align: right;\">\n",
       "      <th></th>\n",
       "      <th>Predicted False</th>\n",
       "      <th>Predicted True</th>\n",
       "    </tr>\n",
       "  </thead>\n",
       "  <tbody>\n",
       "    <tr>\n",
       "      <th>Actual False</th>\n",
       "      <td>303003</td>\n",
       "      <td>720</td>\n",
       "    </tr>\n",
       "    <tr>\n",
       "      <th>Actual True</th>\n",
       "      <td>180</td>\n",
       "      <td>22</td>\n",
       "    </tr>\n",
       "  </tbody>\n",
       "</table>\n",
       "</div>"
      ],
      "text/plain": [
       "              Predicted False  Predicted True\n",
       "Actual False           303003             720\n",
       "Actual True               180              22"
      ]
     },
     "metadata": {},
     "output_type": "display_data"
    }
   ],
   "source": [
    "from sklearn.metrics import confusion_matrix\n",
    "\n",
    "confusion_matrix = pd.DataFrame(\n",
    "    confusion_matrix(y_val,y_pred), \n",
    "    columns=[\"Predicted False\", \"Predicted True\"], \n",
    "    index=[\"Actual False\", \"Actual True\"]\n",
    ")\n",
    "display(confusion_matrix)"
   ]
  },
  {
   "cell_type": "markdown",
   "metadata": {},
   "source": [
    "## Prediction on test set"
   ]
  },
  {
   "cell_type": "code",
   "execution_count": 35,
   "metadata": {
    "collapsed": true
   },
   "outputs": [],
   "source": [
    "#Preprocessing x_test data\n",
    "df_test = pd.read_csv('test.csv')"
   ]
  },
  {
   "cell_type": "code",
   "execution_count": 36,
   "metadata": {
    "collapsed": true
   },
   "outputs": [],
   "source": [
    "x_test = df_test"
   ]
  },
  {
   "cell_type": "code",
   "execution_count": 38,
   "metadata": {},
   "outputs": [],
   "source": [
    "def preprocess_test(x):\n",
    "    \n",
    "    # Drop unrequired features\n",
    "    x = x.drop(['bidid','userid','IP','domain','url','urlid','slotid','slotprice','creative','keypage'],axis=1)\n",
    "    \n",
    "    # Split user agent into two features, platform and browser\n",
    "    x['platform'] = x['useragent'].map(lambda x: str(x).split('_')[0])   \n",
    "    x['browser'] = x['useragent'].map(lambda x: str(x).split('_')[1])\n",
    "    \n",
    "    # Drop User Agent\n",
    "    x = x.drop(['useragent'],axis=1)\n",
    "    \n",
    "    x = x.join(x['usertag'].str.get_dummies(','))\n",
    "    \n",
    "    # Drop User Tag\n",
    "    x = x.drop(['usertag'],axis=1)\n",
    "    \n",
    "    x.loc[x['slotvisibility'] == 'FirstView', 'slotvisibility'] = 1\n",
    "    x.loc[x['slotvisibility'] == 'SecondView', 'slotvisibility'] = 2\n",
    "    x.loc[x['slotvisibility'] == 'ThirdView', 'slotvisibility'] = 3\n",
    "    x.loc[x['slotvisibility'] == 'FourthView', 'slotvisibility'] = 4\n",
    "    x.loc[x['slotvisibility'] == 'FifthView', 'slotvisibility'] = 5\n",
    "    x.loc[x['slotvisibility'] == 'OtherView', 'slotvisibility'] = 6\n",
    "    x.loc[x['slotvisibility'] == 'Na', 'slotvisibility'] = 0\n",
    "    x.loc[x['slotvisibility'] == '255', 'slotvisibility'] = 255\n",
    "    \n",
    "    x['adexchange'].fillna(0,inplace=True)\n",
    "    \n",
    "    x = x.join(pd.get_dummies(x['weekday'],prefix='weekday'))\n",
    "    x = x.join(pd.get_dummies(x['hour'],prefix='hour'))\n",
    "    x = x.join(pd.get_dummies(x['region'],prefix='region'))\n",
    "    x = x.join(pd.get_dummies(x['city'],prefix='city'))\n",
    "    x = x.join(pd.get_dummies(x['adexchange'],prefix='adexchange'))\n",
    "    x = x.join(pd.get_dummies(x['slotwidth'],prefix='slotwidth'))\n",
    "    x = x.join(pd.get_dummies(x['slotheight'],prefix='slotheight'))\n",
    "    x = x.join(pd.get_dummies(x['slotvisibility'],prefix='slotvisibility'))\n",
    "    x = x.join(pd.get_dummies(x['slotformat'],prefix='slotformat'))\n",
    "    x = x.join(pd.get_dummies(x['advertiser'],prefix='advertiser'))\n",
    "    x = x.join(pd.get_dummies(x['platform'],prefix='platform'))\n",
    "    x = x.join(pd.get_dummies(x['browser'],prefix='browser'))\n",
    "    \n",
    "    \n",
    "    # Drop unrequired features\n",
    "    x = x.drop(['weekday','hour','region','city','adexchange','slotwidth','slotheight','slotvisibility','slotformat','advertiser','platform','browser'],axis=1)\n",
    "    \n",
    "    \n",
    "#     x = x.join(x['weekday'].get_dummies())\n",
    "#     x = x.join(x['hour'].get_dummies())\n",
    "#     x = x.join(x['region'].get_dummies())\n",
    "#     x = x.join(x['city'].get_dummies())\n",
    "#     x = x.join(x['adexchange'].str.get_dummies())\n",
    "#     x = x.join(x['slotwidth'].get_dummies())\n",
    "#     x = x.join(x['slotheight'].get_dummies())\n",
    "#     x = x.join(x['slotvisibility'].str.get_dummies())\n",
    "#     x = x.join(x['slotformat'].str.get_dummies())\n",
    "#     x = x.join(x['advertiser'].get_dummies())\n",
    "#     x = x.join(x['platform'].str.get_dummies())\n",
    "#     x = x.join(x['browser'].str.get_dummies())\n",
    "    \n",
    "    print('Data Preprocessed')\n",
    "\n",
    "    return x"
   ]
  },
  {
   "cell_type": "code",
   "execution_count": 39,
   "metadata": {},
   "outputs": [
    {
     "name": "stdout",
     "output_type": "stream",
     "text": [
      "Data Preprocessed\n"
     ]
    }
   ],
   "source": [
    "X_test = preprocess_test(x_test)"
   ]
  },
  {
   "cell_type": "code",
   "execution_count": 42,
   "metadata": {},
   "outputs": [],
   "source": [
    "y_test = classifier.predict(X_test)"
   ]
  },
  {
   "cell_type": "code",
   "execution_count": 47,
   "metadata": {},
   "outputs": [
    {
     "data": {
      "text/plain": [
       "array([0, 1, 0, ..., 0, 0, 0])"
      ]
     },
     "execution_count": 47,
     "metadata": {},
     "output_type": "execute_result"
    }
   ],
   "source": [
    "y_test"
   ]
  },
  {
   "cell_type": "code",
   "execution_count": 49,
   "metadata": {},
   "outputs": [],
   "source": [
    "df_results = pd.DataFrame(y_test)\n",
    "df_results.to_csv('testing_output.csv',header=None)"
   ]
  }
 ],
 "metadata": {
  "kernelspec": {
   "display_name": "Python 3",
   "language": "python",
   "name": "python3"
  },
  "language_info": {
   "codemirror_mode": {
    "name": "ipython",
    "version": 3
   },
   "file_extension": ".py",
   "mimetype": "text/x-python",
   "name": "python",
   "nbconvert_exporter": "python",
   "pygments_lexer": "ipython3",
   "version": "3.6.2"
  }
 },
 "nbformat": 4,
 "nbformat_minor": 2
}
