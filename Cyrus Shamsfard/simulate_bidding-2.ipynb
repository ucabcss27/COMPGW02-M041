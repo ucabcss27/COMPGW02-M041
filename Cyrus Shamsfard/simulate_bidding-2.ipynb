{
 "cells": [
  {
   "cell_type": "code",
   "execution_count": null,
   "metadata": {},
   "outputs": [],
   "source": [
    "# Python version\n",
    "import sys\n",
    "print('Python: {}'.format(sys.version))\n",
    "# scipy\n",
    "import scipy\n",
    "print('scipy: {}'.format(scipy.__version__))\n",
    "# numpy\n",
    "import numpy as np\n",
    "print('numpy: {}'.format(np.__version__))\n",
    "# matplotlib\n",
    "import matplotlib\n",
    "print('matplotlib: {}'.format(matplotlib.__version__))\n",
    "import matplotlib.pyplot as plt\n",
    "# pandas\n",
    "import pandas as pd\n",
    "print('pandas: {}'.format(pd.__version__))\n",
    "# scikit-learn\n",
    "import sklearn\n",
    "print('sklearn: {}'.format(sklearn.__version__))\n",
    "import pickle as pickle"
   ]
  },
  {
   "cell_type": "code",
   "execution_count": null,
   "metadata": {},
   "outputs": [],
   "source": [
    "def pickle_data(filename, data):\n",
    "\n",
    "    fileObject = open('PickleData/'+filename,'wb') \n",
    "    # this writes the object a to the\n",
    "    # file named 'testfile'\n",
    "    pickle.dump(data,fileObject) \n",
    "\n",
    "    # here we close the fileObject\n",
    "    fileObject.close()\n",
    "    \n",
    "def load_pickle_data(filename):\n",
    "    # we open the file for reading\n",
    "    fileObject = open('PickleData/'+filename,'rb')  \n",
    "    # load the object from the file into var b\n",
    "    return pickle.load(fileObject)"
   ]
  },
  {
   "cell_type": "code",
   "execution_count": null,
   "metadata": {},
   "outputs": [],
   "source": [
    "#Load validation set predictions from logistic regr model on binary dataset\n",
    "pred_y = load_pickle_data('test_y_opt_xgboost')"
   ]
  },
  {
   "cell_type": "code",
   "execution_count": null,
   "metadata": {},
   "outputs": [],
   "source": [
    "#Load training Dataset\n",
    "df_train = pd.read_csv('Data/train.csv')"
   ]
  },
  {
   "cell_type": "code",
   "execution_count": null,
   "metadata": {},
   "outputs": [],
   "source": [
    "df_test = pd.read_csv('Data/test.csv')"
   ]
  },
  {
   "cell_type": "code",
   "execution_count": null,
   "metadata": {},
   "outputs": [],
   "source": [
    "# base_bid = sum(df_train['payprice'])/df_train.shape[0]\n",
    "# OR BAse_bid is optimised value\n",
    "base_bid = 30\n",
    "avg_ctr = df_train[df_train['click']==1].shape[0]/df_train.shape[0]*100\n",
    "p_ctr = pred_y"
   ]
  },
  {
   "cell_type": "code",
   "execution_count": null,
   "metadata": {},
   "outputs": [],
   "source": [
    "#Using formula froma ssignment decription\n",
    "bid = base_bid * p_ctr/avg_ctr"
   ]
  },
  {
   "cell_type": "code",
   "execution_count": null,
   "metadata": {},
   "outputs": [],
   "source": [
    "threshold = 0.5\n",
    "#New col to store prediction probabilty from model\n",
    "df_test['pred_y'] = pred_y\n",
    "#Extract all imps with prediction probability over threshold\n",
    "bid_imps = df_test[df_test['pred_y']>=threshold]"
   ]
  },
  {
   "cell_type": "code",
   "execution_count": null,
   "metadata": {},
   "outputs": [],
   "source": [
    "#sort in descending order of probabilty\n",
    "bid_imps = bid_imps.sort_values(by=['pred_y'], ascending=False)"
   ]
  },
  {
   "cell_type": "code",
   "execution_count": null,
   "metadata": {},
   "outputs": [],
   "source": [
    "budget = 6250000\n",
    "\n",
    "budget_list = []\n",
    "\n",
    "def simulate_bids(data):\n",
    "    \n",
    "    # Running budget\n",
    "    budget_spent = 0\n",
    "    \n",
    "    index = 0\n",
    "\n",
    "    for index, row in data.iterrows():\n",
    "\n",
    "        #Budget exceeded\n",
    "        if (budget_spent >= budget):\n",
    "            break\n",
    "\n",
    "        #Update budget\n",
    "        #Using formula from assignment decription\n",
    "        bid = base_bid * row['pred_y']/avg_ctr\n",
    "        \n",
    "        budget_spent = budget_spent + bid\n",
    "        data.loc[index, 'bidprice'] = bid\n",
    "        print('Bid Price:',bid)\n",
    "        print('Budget Spent:',budget_spent)\n",
    "        print('----------------')\n",
    "        \n",
    "    print('Budget Spent:',budget_spent)\n",
    "    budget_list.append(budget_spent)\n",
    "    return data"
   ]
  },
  {
   "cell_type": "code",
   "execution_count": null,
   "metadata": {},
   "outputs": [],
   "source": [
    "bid_imps = simulate_bids(bid_imps)"
   ]
  },
  {
   "cell_type": "code",
   "execution_count": null,
   "metadata": {},
   "outputs": [],
   "source": [
    "#Sort back into index position\n",
    "bid_imps.sort_index(inplace=True)"
   ]
  },
  {
   "cell_type": "code",
   "execution_count": null,
   "metadata": {},
   "outputs": [],
   "source": [
    "#Merge bid column with original dataframe\n",
    "df_test = pd.concat([df_test, bid_imps['bidprice']], axis=1)"
   ]
  },
  {
   "cell_type": "code",
   "execution_count": null,
   "metadata": {},
   "outputs": [],
   "source": [
    "#change NaNs to 0\n",
    "df_test['bidprice'].fillna(0, inplace=True)"
   ]
  },
  {
   "cell_type": "code",
   "execution_count": null,
   "metadata": {},
   "outputs": [],
   "source": [
    "df_test_submittion = df_test[['bidid','bidprice']]"
   ]
  },
  {
   "cell_type": "code",
   "execution_count": null,
   "metadata": {},
   "outputs": [],
   "source": [
    "# Cast all values to integer\n",
    "df_test_submittion['bidprice'] = df_test_submittion['bidprice'].astype(int)"
   ]
  },
  {
   "cell_type": "code",
   "execution_count": null,
   "metadata": {
    "scrolled": false
   },
   "outputs": [],
   "source": [
    "df_test_submittion"
   ]
  },
  {
   "cell_type": "code",
   "execution_count": null,
   "metadata": {},
   "outputs": [],
   "source": [
    "df_test_submittion.to_csv('Submissions/XGBoost_test_optmised.csv')"
   ]
  },
  {
   "cell_type": "markdown",
   "metadata": {},
   "source": [
    "##### For Testing Purposes"
   ]
  },
  {
   "cell_type": "code",
   "execution_count": null,
   "metadata": {},
   "outputs": [],
   "source": [
    "def bid_on_impressions(threshold):\n",
    "    df_test['pred_y'] == pred_y\n",
    "    bid_imps = df_test[df['pred_y']>=threshold]"
   ]
  },
  {
   "cell_type": "code",
   "execution_count": null,
   "metadata": {},
   "outputs": [],
   "source": [
    "def calculate_winning_bids(data):\n",
    "    \n",
    "    success_bid = data.loc[data['predclick']  & (data['predbid'] > data['payprice'])]\n",
    "    success_bid = success_bid.reset_index(drop=True)\n",
    "    \n",
    "    return success_bid\n",
    "\n",
    "\n"
   ]
  },
  {
   "cell_type": "code",
   "execution_count": null,
   "metadata": {},
   "outputs": [],
   "source": [
    "successfull_bids = calculate_winning_bids(df_val)"
   ]
  },
  {
   "cell_type": "code",
   "execution_count": null,
   "metadata": {},
   "outputs": [],
   "source": [
    "click_const_bid = sum(successfull_bids.iloc[0:calculate_budget(successfull_bids),:]['click'])"
   ]
  },
  {
   "cell_type": "code",
   "execution_count": null,
   "metadata": {},
   "outputs": [],
   "source": [
    "print('Impression with clicks won:',click_const_bid)"
   ]
  }
 ],
 "metadata": {
  "kernelspec": {
   "display_name": "Python [conda env:Python3]",
   "language": "python",
   "name": "conda-env-Python3-py"
  },
  "language_info": {
   "codemirror_mode": {
    "name": "ipython",
    "version": 3
   },
   "file_extension": ".py",
   "mimetype": "text/x-python",
   "name": "python",
   "nbconvert_exporter": "python",
   "pygments_lexer": "ipython3",
   "version": "3.6.4"
  }
 },
 "nbformat": 4,
 "nbformat_minor": 2
}
