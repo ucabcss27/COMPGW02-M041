{
 "cells": [
  {
   "cell_type": "code",
   "execution_count": 1,
   "metadata": {},
   "outputs": [
    {
     "name": "stdout",
     "output_type": "stream",
     "text": [
      "Python: 3.6.4 |Anaconda custom (64-bit)| (default, Jan 16 2018, 18:10:19) \n",
      "[GCC 7.2.0]\n",
      "numpy: 1.14.0\n",
      "matplotlib: 2.1.2\n",
      "pandas: 0.22.0\n"
     ]
    }
   ],
   "source": [
    "# Python version\n",
    "import sys\n",
    "print('Python: {}'.format(sys.version))\n",
    "# # scipy\n",
    "# import scipy\n",
    "# print('scipy: {}'.format(scipy.__version__))\n",
    "# numpy\n",
    "import numpy as np\n",
    "print('numpy: {}'.format(np.__version__))\n",
    "# matplotlib\n",
    "import matplotlib\n",
    "print('matplotlib: {}'.format(matplotlib.__version__))\n",
    "import matplotlib.pyplot as plt\n",
    "# pandas\n",
    "import pandas as pd\n",
    "print('pandas: {}'.format(pd.__version__))\n",
    "import pickle as pickle\n",
    "\n",
    "# scikit-learn\n",
    "# import sklearn\n",
    "# print('sklearn: {}'.format(sklearn.__version__))\n",
    "# import pandas.plotting\n",
    "# import pickle as pickle\n",
    "# import matplotlib.mlab as mlab\n",
    "# import math\n",
    "# from IPython.core.display import HTML\n",
    "# from scipy.stats import moment"
   ]
  },
  {
   "cell_type": "code",
   "execution_count": 24,
   "metadata": {},
   "outputs": [],
   "source": [
    "# Load libraries\n",
    "\n",
    "# pd.options.mode.chained_assignment = None  # default='warn'\n",
    "# from pandas.tools.plotting import scatter_matrix\n",
    "# import matplotlib.pyplot as plt\n",
    "# from sklearn import model_selection\n",
    "# from sklearn.metrics import accuracy_score\n",
    "# from sklearn.linear_model import LogisticRegression\n",
    "# from sklearn.model_selection import train_test_split\n",
    "# from sklearn.tree import DecisionTreeClassifier\n",
    "# from sklearn.ensemble import RandomForestClassifier\n",
    "# from sklearn.neighbors import KNeighborsClassifier\n",
    "# from sklearn.discriminant_analysis import LinearDiscriminantAnalysis\n",
    "# from sklearn.naive_bayes import GaussianNB\n",
    "# from sklearn.svm import SVC\n",
    "# from sklearn.preprocessing import StandardScaler\n",
    "# from sklearn.neural_network import MLPClassifier\n",
    "# from sklearn.metrics import classification_report,confusion_matrix,roc_curve\n",
    "# from sklearn.feature_selection import SelectKBest\n",
    "# from sklearn.feature_selection import chi2"
   ]
  },
  {
   "cell_type": "code",
   "execution_count": 2,
   "metadata": {},
   "outputs": [],
   "source": [
    "def pickle_data(filename, data):\n",
    "\n",
    "    fileObject = open('PickleData/'+filename,'wb') \n",
    "    # this writes the object a to the\n",
    "    # file named 'testfile'\n",
    "    pickle.dump(data,fileObject) \n",
    "\n",
    "    # here we close the fileObject\n",
    "    fileObject.close()\n",
    "    \n",
    "def load_pickle_data(filename):\n",
    "    # we open the file for reading\n",
    "    fileObject = open('PickleData/'+filename,'rb')  \n",
    "    # load the object from the file into var b\n",
    "    return pickle.load(fileObject)"
   ]
  },
  {
   "cell_type": "code",
   "execution_count": 3,
   "metadata": {},
   "outputs": [],
   "source": [
    "# Read training set\n",
    "df = pd.read_csv('Data/train.csv')"
   ]
  },
  {
   "cell_type": "code",
   "execution_count": 27,
   "metadata": {},
   "outputs": [
    {
     "data": {
      "text/html": [
       "<div>\n",
       "<style scoped>\n",
       "    .dataframe tbody tr th:only-of-type {\n",
       "        vertical-align: middle;\n",
       "    }\n",
       "\n",
       "    .dataframe tbody tr th {\n",
       "        vertical-align: top;\n",
       "    }\n",
       "\n",
       "    .dataframe thead th {\n",
       "        text-align: right;\n",
       "    }\n",
       "</style>\n",
       "<table border=\"1\" class=\"dataframe\">\n",
       "  <thead>\n",
       "    <tr style=\"text-align: right;\">\n",
       "      <th></th>\n",
       "      <th>click</th>\n",
       "      <th>weekday</th>\n",
       "      <th>hour</th>\n",
       "      <th>bidid</th>\n",
       "      <th>userid</th>\n",
       "      <th>useragent</th>\n",
       "      <th>IP</th>\n",
       "      <th>region</th>\n",
       "      <th>city</th>\n",
       "      <th>adexchange</th>\n",
       "      <th>...</th>\n",
       "      <th>slotheight</th>\n",
       "      <th>slotvisibility</th>\n",
       "      <th>slotformat</th>\n",
       "      <th>slotprice</th>\n",
       "      <th>creative</th>\n",
       "      <th>bidprice</th>\n",
       "      <th>payprice</th>\n",
       "      <th>keypage</th>\n",
       "      <th>advertiser</th>\n",
       "      <th>usertag</th>\n",
       "    </tr>\n",
       "  </thead>\n",
       "  <tbody>\n",
       "    <tr>\n",
       "      <th>0</th>\n",
       "      <td>0</td>\n",
       "      <td>5</td>\n",
       "      <td>22</td>\n",
       "      <td>b7bea80521fdecd95d2d761a38c91c3f09618066</td>\n",
       "      <td>2e880fb7d690cf7377b2e42e701728e3f3c0e4c1</td>\n",
       "      <td>windows_ie</td>\n",
       "      <td>125.37.175.*</td>\n",
       "      <td>2</td>\n",
       "      <td>2</td>\n",
       "      <td>2.0</td>\n",
       "      <td>...</td>\n",
       "      <td>200</td>\n",
       "      <td>2</td>\n",
       "      <td>0</td>\n",
       "      <td>5</td>\n",
       "      <td>a4f763f78ef3eedfe614263b94a8924e</td>\n",
       "      <td>238</td>\n",
       "      <td>5</td>\n",
       "      <td>0f951a030abdaedd733ee8d114ce2944</td>\n",
       "      <td>3427</td>\n",
       "      <td>NaN</td>\n",
       "    </tr>\n",
       "    <tr>\n",
       "      <th>1</th>\n",
       "      <td>0</td>\n",
       "      <td>1</td>\n",
       "      <td>20</td>\n",
       "      <td>4f51205475678f5a124bc76b2c54163bf8eaa7eb</td>\n",
       "      <td>3a1fe01360ff8100e7d006b83b77a3e4c01d928c</td>\n",
       "      <td>windows_chrome</td>\n",
       "      <td>171.36.92.*</td>\n",
       "      <td>238</td>\n",
       "      <td>239</td>\n",
       "      <td>1.0</td>\n",
       "      <td>...</td>\n",
       "      <td>250</td>\n",
       "      <td>FourthView</td>\n",
       "      <td>Na</td>\n",
       "      <td>0</td>\n",
       "      <td>10722</td>\n",
       "      <td>294</td>\n",
       "      <td>23</td>\n",
       "      <td>NaN</td>\n",
       "      <td>2821</td>\n",
       "      <td>NaN</td>\n",
       "    </tr>\n",
       "    <tr>\n",
       "      <th>2</th>\n",
       "      <td>0</td>\n",
       "      <td>3</td>\n",
       "      <td>13</td>\n",
       "      <td>b604e3fd054a658ab7ced4285ebf2ef54d2bd890</td>\n",
       "      <td>801d18a056b6fe6b06a794aef17fb0d6daff2414</td>\n",
       "      <td>windows_ie</td>\n",
       "      <td>59.46.106.*</td>\n",
       "      <td>40</td>\n",
       "      <td>41</td>\n",
       "      <td>2.0</td>\n",
       "      <td>...</td>\n",
       "      <td>250</td>\n",
       "      <td>2</td>\n",
       "      <td>0</td>\n",
       "      <td>5</td>\n",
       "      <td>798b2d49952d77f1eace9f23c210d0b5</td>\n",
       "      <td>238</td>\n",
       "      <td>24</td>\n",
       "      <td>0f951a030abdaedd733ee8d114ce2944</td>\n",
       "      <td>3427</td>\n",
       "      <td>10052,10006,13866,10110</td>\n",
       "    </tr>\n",
       "    <tr>\n",
       "      <th>3</th>\n",
       "      <td>0</td>\n",
       "      <td>6</td>\n",
       "      <td>23</td>\n",
       "      <td>0348beeae93e561584c3b50fc9e7746a33048ad7</td>\n",
       "      <td>0d6eaf2259699990e38a1fc5116f112070b9ecdc</td>\n",
       "      <td>windows_ie</td>\n",
       "      <td>114.250.226.*</td>\n",
       "      <td>1</td>\n",
       "      <td>1</td>\n",
       "      <td>1.0</td>\n",
       "      <td>...</td>\n",
       "      <td>600</td>\n",
       "      <td>2</td>\n",
       "      <td>1</td>\n",
       "      <td>0</td>\n",
       "      <td>cb7c76e7784031272e37af8e7e9b062c</td>\n",
       "      <td>300</td>\n",
       "      <td>25</td>\n",
       "      <td>bebefa5efe83beee17a3d245e7c5085b</td>\n",
       "      <td>1458</td>\n",
       "      <td>13866,10063,10111</td>\n",
       "    </tr>\n",
       "    <tr>\n",
       "      <th>4</th>\n",
       "      <td>0</td>\n",
       "      <td>5</td>\n",
       "      <td>6</td>\n",
       "      <td>268149c1789bce2bc9798ffd97ec431219bafeb3</td>\n",
       "      <td>a239d9bb642460d974ba67f85e63b8d3e214da0e</td>\n",
       "      <td>windows_ie</td>\n",
       "      <td>183.63.192.*</td>\n",
       "      <td>216</td>\n",
       "      <td>233</td>\n",
       "      <td>2.0</td>\n",
       "      <td>...</td>\n",
       "      <td>90</td>\n",
       "      <td>OtherView</td>\n",
       "      <td>Na</td>\n",
       "      <td>133</td>\n",
       "      <td>7330</td>\n",
       "      <td>277</td>\n",
       "      <td>133</td>\n",
       "      <td>NaN</td>\n",
       "      <td>2259</td>\n",
       "      <td>NaN</td>\n",
       "    </tr>\n",
       "  </tbody>\n",
       "</table>\n",
       "<p>5 rows × 25 columns</p>\n",
       "</div>"
      ],
      "text/plain": [
       "   click  weekday  hour                                     bidid  \\\n",
       "0      0        5    22  b7bea80521fdecd95d2d761a38c91c3f09618066   \n",
       "1      0        1    20  4f51205475678f5a124bc76b2c54163bf8eaa7eb   \n",
       "2      0        3    13  b604e3fd054a658ab7ced4285ebf2ef54d2bd890   \n",
       "3      0        6    23  0348beeae93e561584c3b50fc9e7746a33048ad7   \n",
       "4      0        5     6  268149c1789bce2bc9798ffd97ec431219bafeb3   \n",
       "\n",
       "                                     userid       useragent             IP  \\\n",
       "0  2e880fb7d690cf7377b2e42e701728e3f3c0e4c1      windows_ie   125.37.175.*   \n",
       "1  3a1fe01360ff8100e7d006b83b77a3e4c01d928c  windows_chrome    171.36.92.*   \n",
       "2  801d18a056b6fe6b06a794aef17fb0d6daff2414      windows_ie    59.46.106.*   \n",
       "3  0d6eaf2259699990e38a1fc5116f112070b9ecdc      windows_ie  114.250.226.*   \n",
       "4  a239d9bb642460d974ba67f85e63b8d3e214da0e      windows_ie   183.63.192.*   \n",
       "\n",
       "   region  city  adexchange           ...            slotheight  \\\n",
       "0       2     2         2.0           ...                   200   \n",
       "1     238   239         1.0           ...                   250   \n",
       "2      40    41         2.0           ...                   250   \n",
       "3       1     1         1.0           ...                   600   \n",
       "4     216   233         2.0           ...                    90   \n",
       "\n",
       "  slotvisibility  slotformat slotprice                          creative  \\\n",
       "0              2           0         5  a4f763f78ef3eedfe614263b94a8924e   \n",
       "1     FourthView          Na         0                             10722   \n",
       "2              2           0         5  798b2d49952d77f1eace9f23c210d0b5   \n",
       "3              2           1         0  cb7c76e7784031272e37af8e7e9b062c   \n",
       "4      OtherView          Na       133                              7330   \n",
       "\n",
       "   bidprice payprice                           keypage  advertiser  \\\n",
       "0       238        5  0f951a030abdaedd733ee8d114ce2944        3427   \n",
       "1       294       23                               NaN        2821   \n",
       "2       238       24  0f951a030abdaedd733ee8d114ce2944        3427   \n",
       "3       300       25  bebefa5efe83beee17a3d245e7c5085b        1458   \n",
       "4       277      133                               NaN        2259   \n",
       "\n",
       "                   usertag  \n",
       "0                      NaN  \n",
       "1                      NaN  \n",
       "2  10052,10006,13866,10110  \n",
       "3        13866,10063,10111  \n",
       "4                      NaN  \n",
       "\n",
       "[5 rows x 25 columns]"
      ]
     },
     "execution_count": 27,
     "metadata": {},
     "output_type": "execute_result"
    }
   ],
   "source": [
    "# Preview dataset\n",
    "df.head(5)"
   ]
  },
  {
   "cell_type": "markdown",
   "metadata": {},
   "source": [
    "# Part 1: Data Exploration"
   ]
  },
  {
   "cell_type": "markdown",
   "metadata": {},
   "source": [
    "### Overall Dataset"
   ]
  },
  {
   "cell_type": "code",
   "execution_count": 28,
   "metadata": {},
   "outputs": [
    {
     "name": "stdout",
     "output_type": "stream",
     "text": [
      "Number of impressions: 2430981\n",
      "Number of impressions clicked through: 1793\n",
      "Number of impressions NOT clicked through: 2429188\n",
      "Average click through rate: 0.07 %\n"
     ]
    }
   ],
   "source": [
    "print('Number of impressions:', df.shape[0])\n",
    "print('Number of impressions clicked through:', df[df['click']==1].shape[0])\n",
    "print('Number of impressions NOT clicked through:', df[df['click']==0].shape[0])\n",
    "print('Average click through rate:',round(df[df['click']==1].shape[0]*100/df.shape[0],2),'%')"
   ]
  },
  {
   "cell_type": "code",
   "execution_count": 29,
   "metadata": {},
   "outputs": [
    {
     "name": "stdout",
     "output_type": "stream",
     "text": [
      "Average bid price 272.96\n",
      "Average pay price 78.15\n"
     ]
    }
   ],
   "source": [
    "print('Average bid price', round(sum(df['bidprice'])/df.shape[0],2))\n",
    "print('Average pay price', round(sum(df['payprice'])/df.shape[0],2))"
   ]
  },
  {
   "cell_type": "markdown",
   "metadata": {},
   "source": [
    "##### Clicked Impressions"
   ]
  },
  {
   "cell_type": "code",
   "execution_count": 30,
   "metadata": {},
   "outputs": [
    {
     "name": "stdout",
     "output_type": "stream",
     "text": [
      "Average bid price of impressions: 273.23\n",
      "Average pay price of impressions: 105.46\n"
     ]
    }
   ],
   "source": [
    "print('Average bid price of impressions:', round(sum(df[df['click']==1]['bidprice'])/df[df['click']==1].shape[0],2))\n",
    "print('Average pay price of impressions:', round(sum(df[df['click']==1]['payprice'])/df[df['click']==1].shape[0],2))"
   ]
  },
  {
   "cell_type": "markdown",
   "metadata": {},
   "source": [
    "##### Not Clicked Impressions"
   ]
  },
  {
   "cell_type": "code",
   "execution_count": 7,
   "metadata": {},
   "outputs": [
    {
     "name": "stdout",
     "output_type": "stream",
     "text": [
      "Average bid price of impressions: 272.96\n",
      "Average pay price of impressions: 78.13\n"
     ]
    }
   ],
   "source": [
    "print('Average bid price of impressions:', round(sum(df[df['click']==0]['bidprice'])/df[df['click']==0].shape[0],2))\n",
    "print('Average pay price of impressions:', round(sum(df[df['click']==0]['payprice'])/df[df['click']==0].shape[0],2))"
   ]
  },
  {
   "cell_type": "code",
   "execution_count": 8,
   "metadata": {
    "scrolled": true
   },
   "outputs": [
    {
     "name": "stdout",
     "output_type": "stream",
     "text": [
      "CPM: 78151.41623895867\n"
     ]
    }
   ],
   "source": [
    "print('CPM:',sum(df['payprice'])/df.shape[0]*1000)"
   ]
  },
  {
   "cell_type": "code",
   "execution_count": 9,
   "metadata": {},
   "outputs": [
    {
     "name": "stdout",
     "output_type": "stream",
     "text": [
      "CPC : 105.46\n",
      "eCPM : 77.8\n",
      "eCPC : 105.46\n"
     ]
    }
   ],
   "source": [
    "num_clicks = df[(df['click']==1)].shape[0]\n",
    "total_cost = df[(df['click'] == 1) ]['payprice']\n",
    "cpc = round(sum(total_cost)/total_cost.shape[0],2)\n",
    "\n",
    "num_blocks_mille = (df[(df['payprice']>0)].shape[0])/1000\n",
    "ecpm = sum(total_cost)/num_blocks_mille\n",
    "ecpc = sum(total_cost)/df[(df['click'] == 1)].shape[0]\n",
    "\n",
    "\n",
    "print(\"CPC :\", round(cpc,2))\n",
    "print(\"eCPM :\", round(ecpm,2))\n",
    "print(\"eCPC :\", round(ecpc,2))"
   ]
  },
  {
   "cell_type": "markdown",
   "metadata": {},
   "source": [
    "### Individual Advertisers"
   ]
  },
  {
   "cell_type": "code",
   "execution_count": 25,
   "metadata": {},
   "outputs": [
    {
     "name": "stdout",
     "output_type": "stream",
     "text": [
      "Advertiser: 3427\n",
      "Number of impressions: 402806\n",
      "Number of impressions clicked through: 272\n",
      "Number of impressions NOT clicked through: 402534\n",
      "Average click through rate: 0.07 %\n",
      "Average bid price 236.39\n",
      "Average pay price 75.62\n",
      "Average bid price non-clicked 236.39\n",
      "Average pay price non-clicked: 75.6\n",
      "Average bid price clicked 235.05\n",
      "Average pay price clicked: 103.53\n",
      "CPM : 75616.33\n",
      "CPC : 103.53\n",
      "eCPM : 69.91\n",
      "eCPC : 103.53\n",
      "-----------------------------\n",
      "Advertiser: 2821\n",
      "Number of impressions: 211366\n",
      "Number of impressions clicked through: 131\n",
      "Number of impressions NOT clicked through: 211235\n",
      "Average click through rate: 0.06 %\n",
      "Average bid price 290.22\n",
      "Average pay price 89.08\n",
      "Average bid price non-clicked 290.22\n",
      "Average pay price non-clicked: 89.06\n",
      "Average bid price clicked 290.76\n",
      "Average pay price clicked: 119.84\n",
      "CPM : 89077.92\n",
      "CPC : 119.84\n",
      "eCPM : 74.27\n",
      "eCPC : 119.84\n",
      "-----------------------------\n",
      "Advertiser: 1458\n",
      "Number of impressions: 492353\n",
      "Number of impressions clicked through: 385\n",
      "Number of impressions NOT clicked through: 491968\n",
      "Average click through rate: 0.08 %\n",
      "Average bid price 300.0\n",
      "Average pay price 68.99\n",
      "Average bid price non-clicked 300.0\n",
      "Average pay price non-clicked: 68.97\n",
      "Average bid price clicked 300.0\n",
      "Average pay price clicked: 96.58\n",
      "CPM : 68992.65\n",
      "CPC : 96.58\n",
      "eCPM : 75.52\n",
      "eCPC : 96.58\n",
      "-----------------------------\n",
      "Advertiser: 2259\n",
      "Number of impressions: 133673\n",
      "Number of impressions clicked through: 43\n",
      "Number of impressions NOT clicked through: 133630\n",
      "Average click through rate: 0.03 %\n",
      "Average bid price 288.08\n",
      "Average pay price 92.97\n",
      "Average bid price non-clicked 288.08\n",
      "Average pay price non-clicked: 92.97\n",
      "Average bid price clicked 290.44\n",
      "Average pay price clicked: 107.6\n",
      "CPM : 92974.93\n",
      "CPC : 107.6\n",
      "eCPM : 34.61\n",
      "eCPC : 107.6\n",
      "-----------------------------\n",
      "Advertiser: 3386\n",
      "Number of impressions: 455041\n",
      "Number of impressions clicked through: 320\n",
      "Number of impressions NOT clicked through: 454721\n",
      "Average click through rate: 0.07 %\n",
      "Average bid price 300.0\n",
      "Average pay price 76.77\n",
      "Average bid price non-clicked 300.0\n",
      "Average pay price non-clicked: 76.74\n",
      "Average bid price clicked 300.0\n",
      "Average pay price clicked: 118.74\n",
      "CPM : 76766.32\n",
      "CPC : 118.74\n",
      "eCPM : 83.5\n",
      "eCPC : 118.74\n",
      "-----------------------------\n",
      "Advertiser: 3358\n",
      "Number of impressions: 264956\n",
      "Number of impressions clicked through: 202\n",
      "Number of impressions NOT clicked through: 264754\n",
      "Average click through rate: 0.08 %\n",
      "Average bid price 232.98\n",
      "Average pay price 84.72\n",
      "Average bid price non-clicked 232.98\n",
      "Average pay price non-clicked: 84.7\n",
      "Average bid price clicked 232.19\n",
      "Average pay price clicked: 110.87\n",
      "CPM : 84720.6\n",
      "CPC : 110.87\n",
      "eCPM : 84.53\n",
      "eCPC : 110.87\n",
      "-----------------------------\n",
      "Advertiser: 3476\n",
      "Number of impressions: 310835\n",
      "Number of impressions clicked through: 187\n",
      "Number of impressions NOT clicked through: 310648\n",
      "Average click through rate: 0.06 %\n",
      "Average bid price 247.86\n",
      "Average pay price 76.95\n",
      "Average bid price non-clicked 247.86\n",
      "Average pay price non-clicked: 76.94\n",
      "Average bid price clicked 248.81\n",
      "Average pay price clicked: 101.41\n",
      "CPM : 76950.08\n",
      "CPC : 101.41\n",
      "eCPM : 61.01\n",
      "eCPC : 101.41\n",
      "-----------------------------\n",
      "Advertiser: 2261\n",
      "Number of impressions: 110122\n",
      "Number of impressions clicked through: 36\n",
      "Number of impressions NOT clicked through: 110086\n",
      "Average click through rate: 0.03 %\n",
      "Average bid price 287.88\n",
      "Average pay price 89.66\n",
      "Average bid price non-clicked 287.88\n",
      "Average pay price non-clicked: 89.65\n",
      "Average bid price clicked 287.39\n",
      "Average pay price clicked: 132.0\n",
      "CPM : 89662.18\n",
      "CPC : 132.0\n",
      "eCPM : 43.33\n",
      "eCPC : 132.0\n",
      "-----------------------------\n",
      "Advertiser: 2997\n",
      "Number of impressions: 49829\n",
      "Number of impressions clicked through: 217\n",
      "Number of impressions NOT clicked through: 49612\n",
      "Average click through rate: 0.44 %\n",
      "Average bid price 277.0\n",
      "Average pay price 62.8\n",
      "Average bid price non-clicked 277.0\n",
      "Average pay price non-clicked: 62.69\n",
      "Average bid price clicked 277.0\n",
      "Average pay price clicked: 89.04\n",
      "CPM : 62800.12\n",
      "CPC : 89.04\n",
      "eCPM : 387.75\n",
      "eCPC : 89.04\n",
      "-----------------------------\n"
     ]
    }
   ],
   "source": [
    "# Get all advertiser IDs\n",
    "advertisers = df['advertiser'].unique()\n",
    "\n",
    "for a in advertisers:\n",
    "    \n",
    "    total_price_paid = sum(df[df['advertiser']==a]['payprice'])\n",
    "    total_num_imp = df[df['advertiser']==a].shape[0]\n",
    "    cpm = total_price_paid/total_num_imp*1000\n",
    "    \n",
    "    print(\"Advertiser:\", a)\n",
    "    \n",
    "    ## print('Number of impressions:',df.shape[0])\n",
    "    print('Number of impressions:', df[df['advertiser']==a].shape[0])\n",
    "    print('Number of impressions clicked through:', df[(df['click']==1)&(df['advertiser']==a)].shape[0])\n",
    "    print('Number of impressions NOT clicked through:', df[(df['click']==0)&(df['advertiser']==a)].shape[0])\n",
    "    print('Average click through rate:',round(df[(df['click']==1)&(df['advertiser']==a)].shape[0]*100/df[df['advertiser']==a].shape[0],2),'%')\n",
    "\n",
    "    print('Average bid price', round(sum(df.loc[df['advertiser']==a]['bidprice'])/df[df['advertiser']==a].shape[0],2))\n",
    "    print('Average pay price', round(sum(df.loc[df['advertiser']==a]['payprice'])/df[df['advertiser']==a].shape[0],2))\n",
    "    \n",
    "    print('Average bid price non-clicked', round(sum(df.loc[(df['click']==0)&(df['advertiser']==a)]['bidprice'])/df[(df['click']==0)&(df['advertiser']==a)].shape[0],2))\n",
    "    print('Average pay price non-clicked:', round(sum(df.loc[(df['click']==0)&(df['advertiser']==a)]['payprice'])/df[(df['click']==0)&(df['advertiser']==a)].shape[0],2))\n",
    "    \n",
    "    print('Average bid price clicked', round(sum(df.loc[(df['click']==1)&(df['advertiser']==a)]['bidprice'])/df[(df['click']==1)&(df['advertiser']==a)].shape[0],2))\n",
    "    print('Average pay price clicked:', round(sum(df.loc[(df['click']==1)&(df['advertiser']==a)]['payprice'])/df[(df['click']==1)&(df['advertiser']==a)].shape[0],2))\n",
    "    \n",
    "    print(\"CPM :\", round(cpm,2))\n",
    "    \n",
    "    num_clicks = df[(df['advertiser']==a) & (df['click']==1)].shape[0]\n",
    "    total_cost = df[(df['click'] == 1) & (df['advertiser']==a)]['payprice']\n",
    "    cpc = round(sum(total_cost)/total_cost.shape[0],2)\n",
    "    \n",
    "    num_blocks_mille = (df[(df['advertiser']==a) & (df['payprice']>0)].shape[0])/1000\n",
    "    ecpm = sum(total_cost)/num_blocks_mille\n",
    "    ecpc = sum(total_cost)/df[(df['advertiser'] == a) & (df['click'] == 1)].shape[0]\n",
    "    \n",
    "    \n",
    "#     total_price_paid = sum(df[df['advertiser']==a]['payprice'])\n",
    "#     total_num_imp = df[df['advertiser']==a].shape[0]\n",
    "#     cpm = total_price_paid/total_num_imp*1000\n",
    "    \n",
    "    print(\"CPC :\", round(cpc,2))\n",
    "    print(\"eCPM :\", round(ecpm,2))\n",
    "    print(\"eCPC :\", round(ecpc,2))\n",
    "    \n",
    "    print('-----------------------------')\n",
    "    "
   ]
  },
  {
   "cell_type": "markdown",
   "metadata": {},
   "source": [
    "## Visualisations "
   ]
  },
  {
   "cell_type": "markdown",
   "metadata": {},
   "source": [
    "##### Grouping User Agents together by Device Type"
   ]
  },
  {
   "cell_type": "code",
   "execution_count": 12,
   "metadata": {},
   "outputs": [],
   "source": [
    "df['platform'] = df['useragent'].map(lambda x: str(x).split('_')[0])   \n",
    "df['browser'] = df['useragent'].map(lambda x: str(x).split('_')[1])"
   ]
  },
  {
   "cell_type": "code",
   "execution_count": 10,
   "metadata": {},
   "outputs": [],
   "source": [
    "# Save as data pickle for future use\n",
    "pickle_data('Q1-plots', df)"
   ]
  },
  {
   "cell_type": "code",
   "execution_count": 36,
   "metadata": {},
   "outputs": [],
   "source": [
    "# Load data pickle\n",
    "df = load_pickle_data('Q1-plots')"
   ]
  },
  {
   "cell_type": "code",
   "execution_count": 37,
   "metadata": {
    "scrolled": true
   },
   "outputs": [],
   "source": [
    "# Returns data frame for boxplots - Parameters: select platform, show all or only clicked\n",
    "def boxplot_setup_platforms(platform, clicked):\n",
    "    \n",
    "    if (clicked):\n",
    "        temp_df = df[(df['platform']== platform) & (df['click'])]['payprice']\n",
    "    else:\n",
    "        temp_df = df[(df['platform']== platform)]['payprice']\n",
    "        \n",
    "    return temp_df\n",
    "\n",
    "# Plot boxplot of Pay Price for given USer Platforms\n",
    "def boxplot_plot_platforms(clicked=0):\n",
    "\n",
    "    # Select plotting data by platform\n",
    "    data_to_plot = [boxplot_setup_platforms('windows',clicked),boxplot_setup_platforms('mac',clicked),boxplot_setup_platforms('linux',clicked),boxplot_setup_platforms('ios',clicked),boxplot_setup_platforms('android',clicked),boxplot_setup_platforms('other',clicked)]\n",
    "\n",
    "\n",
    "    # figure related code\n",
    "    fig = plt.figure(figsize=(10,10))\n",
    "\n",
    "    title = 'Pay Price by User Platforms (Clicked)' if clicked==1 else 'Pay Price by User Platforms'\n",
    "    \n",
    "    fig.suptitle(title, fontsize=14)\n",
    "\n",
    "    # plt.boxplot(data_to_plot)\n",
    "\n",
    "    ax = fig.add_subplot(111)\n",
    "    ax.boxplot(data_to_plot)\n",
    "\n",
    "    ax.set_xlabel('Platforms')\n",
    "    ax.set_ylabel('Pay Price')\n",
    "\n",
    "    # add x-tick labels\n",
    "    plt.xticks([1, 2, 3, 4, 5, 6], ['Windows', 'Mac', 'Linux', 'iOS', 'Android', 'Other'])\n",
    "\n",
    "    plt.show()"
   ]
  },
  {
   "cell_type": "code",
   "execution_count": 38,
   "metadata": {},
   "outputs": [],
   "source": [
    "# Set to all impressions, not just clicked ones\n",
    "clicked = 0\n",
    "\n",
    "# Generate data to plot\n",
    "data_to_plot = [boxplot_setup_platforms('windows',clicked),boxplot_setup_platforms('mac',clicked),boxplot_setup_platforms('linux',clicked),boxplot_setup_platforms('ios',clicked),boxplot_setup_platforms('android',clicked),boxplot_setup_platforms('other',clicked)]"
   ]
  },
  {
   "cell_type": "code",
   "execution_count": 39,
   "metadata": {
    "scrolled": true
   },
   "outputs": [
    {
     "name": "stderr",
     "output_type": "stream",
     "text": [
      "/opt/anaconda/envs/Python3/lib/python3.6/site-packages/numpy/core/fromnumeric.py:52: FutureWarning: reshape is deprecated and will raise in a subsequent release. Please use .values.reshape(...) instead\n",
      "  return getattr(obj, method)(*args, **kwds)\n"
     ]
    },
    {
     "data": {
      "image/png": "[encoded data removed]",
      "text/plain": [
       "<matplotlib.figure.Figure at 0x7f16f5a48240>"
      ]
     },
     "metadata": {},
     "output_type": "display_data"
    },
    {
     "data": {
      "image/png": "[encoded data removed]",
      "text/plain": [
       "<matplotlib.figure.Figure at 0x7f1727b28ac8>"
      ]
     },
     "metadata": {},
     "output_type": "display_data"
    }
   ],
   "source": [
    "#Plot graphs\n",
    "boxplot_plot_platforms(clicked=0)\n",
    "boxplot_plot_platforms(clicked=1)"
   ]
  },
  {
   "cell_type": "markdown",
   "metadata": {
    "scrolled": true
   },
   "source": [
    "##### Pay price by days of week"
   ]
  },
  {
   "cell_type": "code",
   "execution_count": 5,
   "metadata": {
    "scrolled": true
   },
   "outputs": [],
   "source": [
    "d = {'weekday': ['Fri','Sat','Sun','Mon','Tue','Wed','Thu']}\n",
    "# d = {'weekday': [0,1,2,3,4,5,6]}\n",
    "df_weekdays = pd.DataFrame(data=d)\n",
    "df_weekdays['payprice'] = df.loc[df['weekday'] == 0,['payprice']]"
   ]
  },
  {
   "cell_type": "code",
   "execution_count": 6,
   "metadata": {},
   "outputs": [
    {
     "name": "stderr",
     "output_type": "stream",
     "text": [
      "/opt/anaconda/envs/Python3/lib/python3.6/site-packages/ipykernel/__main__.py:5: SettingWithCopyWarning: \n",
      "A value is trying to be set on a copy of a slice from a DataFrame\n",
      "\n",
      "See the caveats in the documentation: http://pandas.pydata.org/pandas-docs/stable/indexing.html#indexing-view-versus-copy\n"
     ]
    }
   ],
   "source": [
    "# Get average pay price for each day of the week\n",
    "for i in range(0, 7):\n",
    "\n",
    "    df_tmp = df.loc[df['weekday'] == i,['payprice']]\n",
    "    df_weekdays['payprice'][i] = round(df_tmp.sum()/df_tmp.shape[0],2)\n"
   ]
  },
  {
   "cell_type": "code",
   "execution_count": 7,
   "metadata": {},
   "outputs": [
    {
     "data": {
      "text/html": [
       "<div>\n",
       "<style scoped>\n",
       "    .dataframe tbody tr th:only-of-type {\n",
       "        vertical-align: middle;\n",
       "    }\n",
       "\n",
       "    .dataframe tbody tr th {\n",
       "        vertical-align: top;\n",
       "    }\n",
       "\n",
       "    .dataframe thead th {\n",
       "        text-align: right;\n",
       "    }\n",
       "</style>\n",
       "<table border=\"1\" class=\"dataframe\">\n",
       "  <thead>\n",
       "    <tr style=\"text-align: right;\">\n",
       "      <th></th>\n",
       "      <th>weekday</th>\n",
       "      <th>payprice</th>\n",
       "    </tr>\n",
       "  </thead>\n",
       "  <tbody>\n",
       "    <tr>\n",
       "      <th>0</th>\n",
       "      <td>Fri</td>\n",
       "      <td>76.50</td>\n",
       "    </tr>\n",
       "    <tr>\n",
       "      <th>1</th>\n",
       "      <td>Sat</td>\n",
       "      <td>82.26</td>\n",
       "    </tr>\n",
       "    <tr>\n",
       "      <th>2</th>\n",
       "      <td>Sun</td>\n",
       "      <td>80.04</td>\n",
       "    </tr>\n",
       "    <tr>\n",
       "      <th>3</th>\n",
       "      <td>Mon</td>\n",
       "      <td>76.54</td>\n",
       "    </tr>\n",
       "    <tr>\n",
       "      <th>4</th>\n",
       "      <td>Tue</td>\n",
       "      <td>77.66</td>\n",
       "    </tr>\n",
       "    <tr>\n",
       "      <th>5</th>\n",
       "      <td>Wed</td>\n",
       "      <td>79.80</td>\n",
       "    </tr>\n",
       "    <tr>\n",
       "      <th>6</th>\n",
       "      <td>Thu</td>\n",
       "      <td>74.52</td>\n",
       "    </tr>\n",
       "  </tbody>\n",
       "</table>\n",
       "</div>"
      ],
      "text/plain": [
       "  weekday  payprice\n",
       "0     Fri     76.50\n",
       "1     Sat     82.26\n",
       "2     Sun     80.04\n",
       "3     Mon     76.54\n",
       "4     Tue     77.66\n",
       "5     Wed     79.80\n",
       "6     Thu     74.52"
      ]
     },
     "execution_count": 7,
     "metadata": {},
     "output_type": "execute_result"
    }
   ],
   "source": [
    "df_weekdays"
   ]
  },
  {
   "cell_type": "code",
   "execution_count": 8,
   "metadata": {},
   "outputs": [],
   "source": [
    "# Changed order of rows to match Mon-Sun\n",
    "df_weekdays = df_weekdays.reindex([3, 4, 5, 6, 0, 1, 2])\n",
    "df_weekdays = df_weekdays.reset_index(drop=True)"
   ]
  },
  {
   "cell_type": "code",
   "execution_count": 9,
   "metadata": {},
   "outputs": [],
   "source": [
    "df_weekdays = df_weekdays.set_index('weekday')"
   ]
  },
  {
   "cell_type": "code",
   "execution_count": 10,
   "metadata": {},
   "outputs": [],
   "source": [
    "df_weekdays = df_weekdays.reset_index(drop=True)"
   ]
  },
  {
   "cell_type": "code",
   "execution_count": 12,
   "metadata": {},
   "outputs": [
    {
     "data": {
      "image/png": "[encoded data removed]",
      "text/plain": [
       "<matplotlib.figure.Figure at 0x7fc2f88bf2e8>"
      ]
     },
     "metadata": {},
     "output_type": "display_data"
    }
   ],
   "source": [
    "y = df_weekdays['payprice']\n",
    "\n",
    "plt.xlabel('Day of Week')\n",
    "plt.ylabel('Pay Price')\n",
    "plt.title('Average Price Paid on Given Days', fontsize=16)\n",
    "plt.grid( linestyle='-', linewidth=0.5)\n",
    "plt.plot([1, 2, 3, 4, 5, 6,7], y, linestyle='-', marker='o', color='r')\n",
    "\n",
    "plt.show()"
   ]
  },
  {
   "cell_type": "markdown",
   "metadata": {},
   "source": [
    "##### Price aid by advertisers "
   ]
  },
  {
   "cell_type": "code",
   "execution_count": 18,
   "metadata": {},
   "outputs": [],
   "source": [
    "# Add average payprice column grouped by weekday\n",
    "df['avg_payprice'] = df.groupby(['weekday','advertiser'])['payprice'].transform('mean')"
   ]
  },
  {
   "cell_type": "code",
   "execution_count": 19,
   "metadata": {},
   "outputs": [],
   "source": [
    "df_weekdays_advertisers = df[['avg_payprice', 'weekday', 'advertiser']].copy()"
   ]
  },
  {
   "cell_type": "code",
   "execution_count": 20,
   "metadata": {},
   "outputs": [],
   "source": [
    "# Drop duplicates to remain with single row for each weekday\n",
    "df_weekdays_advertisers.drop_duplicates(subset=['weekday', 'advertiser'], keep=\"last\", inplace=True)"
   ]
  },
  {
   "cell_type": "code",
   "execution_count": 21,
   "metadata": {},
   "outputs": [],
   "source": [
    "# Create dictionary to store dataframes for each advertiser\n",
    "advertisers = {}\n",
    "\n",
    "# for a in df_weekdays_advertisers['advertiser'].unique():\n",
    "for a in [3358,3386,3427,3476,1458]:\n",
    "    tmp_ad = df_weekdays_advertisers.loc[df_weekdays_advertisers['advertiser']==a]; # update existing entry\n",
    "    \n",
    "    # Sort values ascending weekday\n",
    "    tmp_ad = tmp_ad.sort_values(['weekday'], ascending=[True])\n",
    "    tmp_ad = tmp_ad.reset_index(drop=True)\n",
    "    # Changed order of rows to match Mon-Sun\n",
    "    tmp_ad = tmp_ad.reindex([3, 4, 5, 6, 0, 1, 2])\n",
    "    tmp_ad = tmp_ad.reset_index(drop=True)\n",
    "\n",
    "    advertisers[a] = tmp_ad"
   ]
  },
  {
   "cell_type": "code",
   "execution_count": 22,
   "metadata": {},
   "outputs": [
    {
     "data": {
      "text/plain": [
       "<matplotlib.legend.Legend at 0x7fc2b6af2be0>"
      ]
     },
     "execution_count": 22,
     "metadata": {},
     "output_type": "execute_result"
    },
    {
     "data": {
      "image/png": "[encoded data removed]",
      "text/plain": [
       "<matplotlib.figure.Figure at 0x7fc2b6ba4780>"
      ]
     },
     "metadata": {},
     "output_type": "display_data"
    }
   ],
   "source": [
    "# Plot Pay Price by Week \n",
    "\n",
    "# zipped_x, zipped_y = zip(*sorted(zip(df_weekdays.index, df_weekdays['payprice'])))\n",
    "x = tmp_ad['weekday']\n",
    "y = tmp_ad['avg_payprice']\n",
    "\n",
    "plt.xlabel('Day of Week')\n",
    "plt.ylabel('Price')\n",
    "plt.title('Avergae Price per Day by Advertisers', fontsize=14)\n",
    "plt.grid( linestyle='-', linewidth=0.5)\n",
    "\n",
    "for ad in advertisers:\n",
    "#     x = ad['weekday']\n",
    "#     y = ad['avg_payprice']\n",
    "    x = advertisers[ad]['weekday']\n",
    "    y = advertisers[ad]['avg_payprice']\n",
    "    plt.plot([1,2,3,4,5,6,7], y, linestyle='-', marker='o',label=ad)\n",
    "# plt.plot(x, y+1, linestyle='-', marker='o')\n",
    "plt.legend(loc='upper right', bbox_to_anchor=(1.4, 0.5))"
   ]
  },
  {
   "cell_type": "markdown",
   "metadata": {},
   "source": [
    "##### Further notable exploration"
   ]
  },
  {
   "cell_type": "code",
   "execution_count": 30,
   "metadata": {},
   "outputs": [
    {
     "name": "stdout",
     "output_type": "stream",
     "text": [
      "Num rows pay price of zero: 487\n"
     ]
    }
   ],
   "source": [
    "# How many has pay price 0\n",
    "print('Num rows pay price of zero:',df.loc[df['payprice']==0].shape[0])"
   ]
  },
  {
   "cell_type": "code",
   "execution_count": 27,
   "metadata": {},
   "outputs": [
    {
     "data": {
      "text/plain": [
       "463"
      ]
     },
     "execution_count": 27,
     "metadata": {},
     "output_type": "execute_result"
    }
   ],
   "source": [
    "# How many pay price 0 has advertiser 2261\n",
    "df.loc[(df['payprice']==0) & (df['advertiser']==2261)].shape[0]"
   ]
  },
  {
   "cell_type": "code",
   "execution_count": 31,
   "metadata": {},
   "outputs": [
    {
     "data": {
      "text/plain": [
       "2430981"
      ]
     },
     "execution_count": 31,
     "metadata": {},
     "output_type": "execute_result"
    }
   ],
   "source": [
    "# How many rows in whole dataframe?\n",
    "df.shape[0]"
   ]
  },
  {
   "cell_type": "code",
   "execution_count": 33,
   "metadata": {},
   "outputs": [
    {
     "name": "stdout",
     "output_type": "stream",
     "text": [
      "Advertisers: [3427 2821 1458 2259 3386 3358 3476 2261 2997]\n"
     ]
    }
   ],
   "source": [
    "print('Advertisers:',df['advertiser'].unique())"
   ]
  }
 ],
 "metadata": {
  "kernelspec": {
   "display_name": "Python [conda env:Python3]",
   "language": "python",
   "name": "conda-env-Python3-py"
  },
  "language_info": {
   "codemirror_mode": {
    "name": "ipython",
    "version": 3
   },
   "file_extension": ".py",
   "mimetype": "text/x-python",
   "name": "python",
   "nbconvert_exporter": "python",
   "pygments_lexer": "ipython3",
   "version": "3.6.4"
  }
 },
 "nbformat": 4,
 "nbformat_minor": 2
}
