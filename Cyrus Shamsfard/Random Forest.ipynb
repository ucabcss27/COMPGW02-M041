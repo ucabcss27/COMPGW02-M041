{
 "cells": [
  {
   "cell_type": "code",
   "execution_count": 21,
   "metadata": {},
   "outputs": [],
   "source": [
    "import numpy as np\n",
    "import pandas as pd\n",
    "import matplotlib.pyplot as plt\n",
    "import seaborn as sns\n",
    "import pickle\n",
    "import sklearn\n",
    "import scipy.stats\n",
    "from random import randint\n",
    "from sklearn import svm\n",
    "from imblearn.under_sampling import RandomUnderSampler\n",
    "from sklearn.metrics import accuracy_score,log_loss,auc\n",
    "from sklearn import model_selection,linear_model,metrics\n",
    "from sklearn.ensemble import RandomForestClassifier\n",
    "from sklearn.datasets import make_classification"
   ]
  },
  {
   "cell_type": "code",
   "execution_count": 22,
   "metadata": {},
   "outputs": [],
   "source": [
    "def pickle_data(filename, data):\n",
    "\n",
    "    fileObject = open('PickleData/'+filename,'wb') \n",
    "    # this writes the object a to the\n",
    "    # file named 'testfile'\n",
    "    pickle.dump(data,fileObject) \n",
    "\n",
    "    # here we close the fileObject\n",
    "    fileObject.close()\n",
    "    \n",
    "def load_pickle_data(filename):\n",
    "    # we open the file for reading\n",
    "    fileObject = open('PickleData/'+filename,'rb')  \n",
    "    # load the object from the file into var b\n",
    "    return pickle.load(fileObject)"
   ]
  },
  {
   "cell_type": "code",
   "execution_count": 23,
   "metadata": {},
   "outputs": [],
   "source": [
    "df = load_pickle_data('normal_clean')"
   ]
  },
  {
   "cell_type": "code",
   "execution_count": 24,
   "metadata": {},
   "outputs": [],
   "source": [
    "df_val = load_pickle_data('val_normal_clean')"
   ]
  },
  {
   "cell_type": "code",
   "execution_count": 25,
   "metadata": {},
   "outputs": [],
   "source": [
    "X = df.drop('click',axis=1)\n",
    "y = df['click']"
   ]
  },
  {
   "cell_type": "code",
   "execution_count": 26,
   "metadata": {},
   "outputs": [],
   "source": [
    "X_val = df_val.drop('click',axis=1)\n",
    "y_val = df_val['click']"
   ]
  },
  {
   "cell_type": "markdown",
   "metadata": {},
   "source": [
    "## Undersample"
   ]
  },
  {
   "cell_type": "code",
   "execution_count": 27,
   "metadata": {},
   "outputs": [],
   "source": [
    "# Apply the random under-sampling\n",
    "rus = RandomUnderSampler(return_indices=True)\n",
    "X_resampled, y_resampled, idx_resampled = rus.fit_sample(X, y)\n",
    "# X_res_vis = pca.transform(X_resampled)"
   ]
  },
  {
   "cell_type": "code",
   "execution_count": 57,
   "metadata": {},
   "outputs": [
    {
     "data": {
      "text/plain": [
       "RandomForestClassifier(bootstrap=True, class_weight=None, criterion='gini',\n",
       "            max_depth=None, max_features='auto', max_leaf_nodes=None,\n",
       "            min_impurity_decrease=0.0, min_impurity_split=None,\n",
       "            min_samples_leaf=1, min_samples_split=2,\n",
       "            min_weight_fraction_leaf=0.0, n_estimators=10, n_jobs=1,\n",
       "            oob_score=False, random_state=0, verbose=0, warm_start=False)"
      ]
     },
     "execution_count": 57,
     "metadata": {},
     "output_type": "execute_result"
    }
   ],
   "source": [
    "X, y = make_classification(n_redundant=0,random_state=0, shuffle=False)\n",
    "clf = RandomForestClassifier( random_state=0)\n",
    "clf.fit(X_resampled, y_resampled)"
   ]
  },
  {
   "cell_type": "code",
   "execution_count": 50,
   "metadata": {},
   "outputs": [
    {
     "name": "stdout",
     "output_type": "stream",
     "text": [
      "[5.76429156e-02 9.08364275e-02 7.57047249e-02 9.89810921e-02\n",
      " 2.59662977e-02 4.38862162e-02 2.77224467e-02 3.78605162e-02\n",
      " 1.66996570e-02 5.71262745e-02 1.54926681e-02 1.23635103e-02\n",
      " 1.05781361e-02 5.22141891e-03 8.37291432e-03 9.97610446e-03\n",
      " 1.08886199e-02 1.60029510e-02 2.14545189e-03 1.53665519e-03\n",
      " 9.17528212e-03 5.94931799e-03 6.92984645e-03 3.26779447e-03\n",
      " 9.38699032e-03 4.28006973e-03 3.36856508e-03 1.33541420e-02\n",
      " 1.31647956e-02 7.60399123e-04 1.44939248e-03 1.87928199e-03\n",
      " 1.33944058e-03 0.00000000e+00 4.91812243e-04 1.60186194e-04\n",
      " 2.16588873e-04 9.40981514e-04 1.00406123e-03 5.18685357e-04\n",
      " 0.00000000e+00 6.29221915e-04 2.49841217e-03 1.86448170e-04\n",
      " 0.00000000e+00 5.59287030e-06 1.02589554e-03 7.08195875e-04\n",
      " 1.00912199e-04 2.41841510e-04 3.94490562e-04 1.82292677e-02\n",
      " 1.00203621e-03 6.19200024e-02 5.18555259e-04 8.14052672e-04\n",
      " 2.03708456e-04 6.77036658e-04 3.76518051e-04 1.26045671e-04\n",
      " 8.73161480e-04 1.83884043e-03 6.01437026e-02 9.34004194e-03\n",
      " 2.31215454e-03 2.44289135e-03 6.54706625e-03 6.97033452e-03\n",
      " 1.08867549e-02 6.69088842e-04 8.09501133e-03 0.00000000e+00\n",
      " 1.60924372e-04 1.05833784e-04 5.31268726e-04 8.79550209e-04\n",
      " 3.60735305e-04 4.34350667e-04 1.82303126e-02 0.00000000e+00\n",
      " 4.58845880e-04 1.10927077e-02 9.93002187e-05 3.40675012e-03\n",
      " 8.93368530e-03 1.69599324e-03 1.38066044e-02 4.56195412e-04\n",
      " 0.00000000e+00 5.20884264e-03 3.09439812e-02 0.00000000e+00\n",
      " 7.74203932e-04]\n"
     ]
    }
   ],
   "source": [
    "print(clf.feature_importances_)"
   ]
  },
  {
   "cell_type": "code",
   "execution_count": 51,
   "metadata": {},
   "outputs": [],
   "source": [
    "pred_y = clf.predict(X_val)"
   ]
  },
  {
   "cell_type": "code",
   "execution_count": 52,
   "metadata": {},
   "outputs": [
    {
     "data": {
      "text/plain": [
       "54361"
      ]
     },
     "execution_count": 52,
     "metadata": {},
     "output_type": "execute_result"
    }
   ],
   "source": [
    "pred_y[pred_y==1].shape[0]"
   ]
  },
  {
   "cell_type": "code",
   "execution_count": 53,
   "metadata": {},
   "outputs": [
    {
     "name": "stdout",
     "output_type": "stream",
     "text": [
      "             precision    recall  f1-score   support\n",
      "\n",
      "          0       1.00      0.82      0.90    303723\n",
      "          1       0.00      0.65      0.00       202\n",
      "\n",
      "avg / total       1.00      0.82      0.90    303925\n",
      "\n"
     ]
    }
   ],
   "source": [
    "print (metrics.classification_report(y_val, pred_y))\n",
    "# print (metrics.accuracy_score(y, pred_y))"
   ]
  },
  {
   "cell_type": "code",
   "execution_count": 54,
   "metadata": {},
   "outputs": [
    {
     "data": {
      "text/html": [
       "<div>\n",
       "<style scoped>\n",
       "    .dataframe tbody tr th:only-of-type {\n",
       "        vertical-align: middle;\n",
       "    }\n",
       "\n",
       "    .dataframe tbody tr th {\n",
       "        vertical-align: top;\n",
       "    }\n",
       "\n",
       "    .dataframe thead th {\n",
       "        text-align: right;\n",
       "    }\n",
       "</style>\n",
       "<table border=\"1\" class=\"dataframe\">\n",
       "  <thead>\n",
       "    <tr style=\"text-align: right;\">\n",
       "      <th></th>\n",
       "      <th>Predicted False</th>\n",
       "      <th>Predicted True</th>\n",
       "    </tr>\n",
       "  </thead>\n",
       "  <tbody>\n",
       "    <tr>\n",
       "      <th>Actual False</th>\n",
       "      <td>249494</td>\n",
       "      <td>54229</td>\n",
       "    </tr>\n",
       "    <tr>\n",
       "      <th>Actual True</th>\n",
       "      <td>70</td>\n",
       "      <td>132</td>\n",
       "    </tr>\n",
       "  </tbody>\n",
       "</table>\n",
       "</div>"
      ],
      "text/plain": [
       "              Predicted False  Predicted True\n",
       "Actual False           249494           54229\n",
       "Actual True                70             132"
      ]
     },
     "metadata": {},
     "output_type": "display_data"
    }
   ],
   "source": [
    "from sklearn.metrics import classification_report,confusion_matrix\n",
    "\n",
    "confusion_matrix = pd.DataFrame(\n",
    "    confusion_matrix(y_val,pred_y), \n",
    "    columns=[\"Predicted False\", \"Predicted True\"], \n",
    "    index=[\"Actual False\", \"Actual True\"]\n",
    ")\n",
    "display(confusion_matrix)"
   ]
  },
  {
   "cell_type": "code",
   "execution_count": null,
   "metadata": {},
   "outputs": [],
   "source": []
  }
 ],
 "metadata": {
  "kernelspec": {
   "display_name": "Python [conda env:Python3]",
   "language": "python",
   "name": "conda-env-Python3-py"
  },
  "language_info": {
   "codemirror_mode": {
    "name": "ipython",
    "version": 3
   },
   "file_extension": ".py",
   "mimetype": "text/x-python",
   "name": "python",
   "nbconvert_exporter": "python",
   "pygments_lexer": "ipython3",
   "version": "3.6.4"
  }
 },
 "nbformat": 4,
 "nbformat_minor": 2
}
