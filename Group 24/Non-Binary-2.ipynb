{
 "cells": [
  {
   "cell_type": "code",
   "execution_count": 2,
   "metadata": {},
   "outputs": [
    {
     "name": "stdout",
     "output_type": "stream",
     "text": [
      "Python: 3.6.4 |Anaconda custom (64-bit)| (default, Jan 16 2018, 18:10:19) \n",
      "[GCC 7.2.0]\n",
      "numpy: 1.14.0\n",
      "matplotlib: 2.1.2\n",
      "pandas: 0.22.0\n"
     ]
    }
   ],
   "source": [
    "# Python version\n",
    "import sys\n",
    "print('Python: {}'.format(sys.version))\n",
    "import numpy as np\n",
    "print('numpy: {}'.format(np.__version__))\n",
    "# matplotlib\n",
    "import matplotlib\n",
    "print('matplotlib: {}'.format(matplotlib.__version__))\n",
    "import matplotlib.pyplot as plt\n",
    "# pandas\n",
    "import pandas as pd\n",
    "print('pandas: {}'.format(pd.__version__))\n",
    "import pickle as pickle\n",
    "from sklearn.preprocessing import OneHotEncoder\n",
    "from sklearn.datasets import make_classification\n",
    "from sklearn.decomposition import PCA\n",
    "from imblearn.under_sampling import RandomUnderSampler"
   ]
  },
  {
   "cell_type": "code",
   "execution_count": 4,
   "metadata": {},
   "outputs": [],
   "source": [
    "def pickle_data(filename, data):\n",
    "\n",
    "    fileObject = open('PickleData/'+filename,'wb') \n",
    "    # this writes the object a to the\n",
    "    # file named 'testfile'\n",
    "    pickle.dump(data,fileObject) \n",
    "\n",
    "    # here we close the fileObject\n",
    "    fileObject.close()\n",
    "    \n",
    "def load_pickle_data(filename):\n",
    "    # we open the file for reading\n",
    "    fileObject = open('PickleData/'+filename,'rb')  \n",
    "    # load the object from the file into var b\n",
    "    return pickle.load(fileObject)"
   ]
  },
  {
   "cell_type": "code",
   "execution_count": 5,
   "metadata": {},
   "outputs": [],
   "source": [
    "df = pd.read_csv('Data/test.csv')"
   ]
  },
  {
   "cell_type": "markdown",
   "metadata": {},
   "source": [
    "## Data Processing: Non-Binary Dataset"
   ]
  },
  {
   "cell_type": "code",
   "execution_count": 6,
   "metadata": {},
   "outputs": [],
   "source": [
    "# Drop unrequired features\n",
    "#For testing set\n",
    "df = df.drop(['bidid','userid','IP','domain','url','urlid','slotid','slotprice','creative','keypage'],axis=1)\n",
    "\n",
    "\n",
    "# Split user agent into two features, platform and browser\n",
    "df['platform'] = df['useragent'].map(lambda x: str(x).split('_')[0])   \n",
    "df['browser'] = df['useragent'].map(lambda x: str(x).split('_')[1])\n",
    "\n",
    "#Encode as integer values\n",
    "df.loc[df['slotvisibility'] == 'FirstView', 'slotvisibility'] = 1\n",
    "df.loc[df['slotvisibility'] == 'SecondView', 'slotvisibility'] = 2\n",
    "df.loc[df['slotvisibility'] == 'ThirdView', 'slotvisibility'] = 3\n",
    "df.loc[df['slotvisibility'] == 'FourthView', 'slotvisibility'] = 4\n",
    "df.loc[df['slotvisibility'] == 'FifthView', 'slotvisibility'] = 5\n",
    "df.loc[df['slotvisibility'] == 'OtherView', 'slotvisibility'] = 7\n",
    "df.loc[df['slotvisibility'] == 'Na', 'slotvisibility'] = 8\n",
    "df.loc[df['slotvisibility'] == '255', 'slotvisibility'] = 6\n",
    "\n",
    "#Replace nulls\n",
    "df.loc[df['adexchange'].isna(), 'adexchange'] = 0\n",
    "\n",
    "#Replace nulls as strings\n",
    "df.loc[df['slotformat'] == 'Na', 'slotformat'] = 0\n",
    "\n",
    "#One-hot encode features\n",
    "df = df.join(df['usertag'].str.get_dummies(','))\n",
    "\n",
    "df = df.drop(['useragent'],axis=1)"
   ]
  },
  {
   "cell_type": "code",
   "execution_count": 7,
   "metadata": {},
   "outputs": [],
   "source": [
    "#One-hot encode features\n",
    "df = df.join(pd.get_dummies(df['platform'],prefix='platform'))\n",
    "df = df.join(pd.get_dummies(df['browser'],prefix='browser'))"
   ]
  },
  {
   "cell_type": "code",
   "execution_count": 8,
   "metadata": {},
   "outputs": [],
   "source": [
    "df = df.drop(['usertag', 'platform','browser'], axis=1)"
   ]
  },
  {
   "cell_type": "code",
   "execution_count": 13,
   "metadata": {},
   "outputs": [],
   "source": [
    "pickle_data('train_normal_clean', df)"
   ]
  },
  {
   "cell_type": "markdown",
   "metadata": {},
   "source": [
    "## Option: Under Sample"
   ]
  },
  {
   "cell_type": "code",
   "execution_count": 27,
   "metadata": {},
   "outputs": [],
   "source": [
    "# Apply the random under-sampling\n",
    "rus = RandomUnderSampler(return_indices=True)\n",
    "X_resampled, y_resampled, idx_resampled = rus.fit_sample(df.drop(['click'],axis=1), df['click'])\n",
    "# X_res_vis = pca.transform(X_resampled)"
   ]
  },
  {
   "cell_type": "code",
   "execution_count": 30,
   "metadata": {},
   "outputs": [],
   "source": [
    "pickle_data('normal_clean_y_val_undersampled', y_resampled)\n",
    "pickle_data('normal_clean_x_val_undersampled', X_resampled)"
   ]
  }
 ],
 "metadata": {
  "kernelspec": {
   "display_name": "Python [conda env:Python3]",
   "language": "python",
   "name": "conda-env-Python3-py"
  },
  "language_info": {
   "codemirror_mode": {
    "name": "ipython",
    "version": 3
   },
   "file_extension": ".py",
   "mimetype": "text/x-python",
   "name": "python",
   "nbconvert_exporter": "python",
   "pygments_lexer": "ipython3",
   "version": "3.6.4"
  }
 },
 "nbformat": 4,
 "nbformat_minor": 2
}
