{
 "cells": [
  {
   "cell_type": "code",
   "execution_count": null,
   "metadata": {},
   "outputs": [],
   "source": [
    "import numpy as np\n",
    "import pandas as pd\n",
    "import matplotlib.pyplot as plt\n",
    "import seaborn as sns\n",
    "import pickle\n",
    "import sklearn\n",
    "import scipy.stats\n",
    "from random import randint"
   ]
  },
  {
   "cell_type": "code",
   "execution_count": null,
   "metadata": {},
   "outputs": [],
   "source": [
    "df = pd.read_csv('Data/train.csv')"
   ]
  },
  {
   "cell_type": "markdown",
   "metadata": {},
   "source": [
    "### Global Constants"
   ]
  },
  {
   "cell_type": "code",
   "execution_count": null,
   "metadata": {},
   "outputs": [],
   "source": [
    "# Get all advertisers\n",
    "advertisers = df['advertiser'].unique()\n",
    "budget = 6250000"
   ]
  },
  {
   "cell_type": "markdown",
   "metadata": {},
   "source": [
    "# Helper Functions"
   ]
  },
  {
   "cell_type": "code",
   "execution_count": null,
   "metadata": {},
   "outputs": [],
   "source": [
    "def calculate_winning_bids(data,bid):\n",
    "    \n",
    "    success_bid = data.loc[data['payprice']<bid]\n",
    "    success_bid = success_bid.reset_index(drop=True)\n",
    "    \n",
    "    return success_bid\n",
    "    "
   ]
  },
  {
   "cell_type": "code",
   "execution_count": null,
   "metadata": {},
   "outputs": [],
   "source": [
    "\n",
    "def calculate_budget(data):\n",
    "    \n",
    "    # Running budget\n",
    "    budget_spent = 0\n",
    "    \n",
    "    index = 0\n",
    "\n",
    "    for index, row in data.iterrows():\n",
    "\n",
    "    #         Budget exceeded\n",
    "        if (budget_spent >= budget):\n",
    "            break\n",
    "\n",
    "    #       Update budget\n",
    "        budget_spent = budget_spent + row['payprice']\n",
    "\n",
    "    return index-1\n",
    "\n"
   ]
  },
  {
   "cell_type": "markdown",
   "metadata": {},
   "source": [
    "## Constant Bid on Overall Dataset"
   ]
  },
  {
   "cell_type": "code",
   "execution_count": null,
   "metadata": {},
   "outputs": [],
   "source": [
    "#Constants\n",
    "con_bid = 5\n",
    "max_num_clicks = 0\n",
    "optimal_bid = 0"
   ]
  },
  {
   "cell_type": "code",
   "execution_count": null,
   "metadata": {},
   "outputs": [],
   "source": [
    "for con_bid in range(300):\n",
    "    \n",
    "    print ('Constant Bid:',con_bid)\n",
    "\n",
    "    # Get number of clicks\n",
    "    successfull_bids = calculate_winning_bids(df,con_bid)\n",
    "    click_const_bid = sum(successfull_bids.iloc[0:calculate_budget(successfull_bids),:]['click'])\n",
    "\n",
    "    print('Number of Clicks:',click_const_bid)\n",
    "    print('Optimal Bid: ',con_bid)\n",
    "    print('-----------------------')\n",
    "    \n",
    "    #Store optimal values achieved\n",
    "    if max_num_clicks < click_const_bid:\n",
    "        max_num_clicks = click_const_bid\n",
    "        optimal_bid = con_bid\n",
    "        \n",
    "    con_bid = con_bid + 1\n"
   ]
  },
  {
   "cell_type": "markdown",
   "metadata": {},
   "source": [
    "## Random Bid on Overall Dataset"
   ]
  },
  {
   "cell_type": "markdown",
   "metadata": {},
   "source": [
    "### Bounds incrementing proportionally "
   ]
  },
  {
   "cell_type": "code",
   "execution_count": null,
   "metadata": {},
   "outputs": [],
   "source": [
    "max_num_clicks_rnd = 0\n",
    "optimal_bid_rnd = 0\n",
    "lower_bound = 0\n",
    "upper_bound = 5"
   ]
  },
  {
   "cell_type": "code",
   "execution_count": null,
   "metadata": {},
   "outputs": [],
   "source": [
    "for i in range(30):\n",
    "    \n",
    "    lower_bound = lower_bound + 10\n",
    "    upper_bound = upper_bound + 10\n",
    "    \n",
    "    random_bid = (randint(lower_bound, upper_bound)) \n",
    "    \n",
    "    print ('Random Bid:',random_bid)\n",
    "        \n",
    "        # Get number of clicks\n",
    "    successfull_bids = calculate_winning_bids(df,random_bid)\n",
    "    click_rand_bid = sum(successfull_bids.iloc[0:calculate_budget(successfull_bids),:]['click'])\n",
    "\n",
    "    print('Number of Clicks:',click_rand_bid)\n",
    "    print('Lower Bound', lower_bound)\n",
    "    print('Upper Bound', upper_bound)\n",
    "    print('Optimal Bid: ',random_bid)\n",
    "    print('-----------------------')\n",
    "\n",
    "     #Store optimal values achieved\n",
    "    if max_num_clicks_rnd < click_rand_bid:\n",
    "        max_num_clicks_rnd = click_rand_bid\n",
    "        optimal_bid_rnd = random_bid\n",
    "        "
   ]
  },
  {
   "cell_type": "markdown",
   "metadata": {},
   "source": [
    "### Bounds incrementing inversely proportionally "
   ]
  },
  {
   "cell_type": "code",
   "execution_count": null,
   "metadata": {},
   "outputs": [],
   "source": [
    "max_num_clicks_rnd = 0\n",
    "optimal_bid_rnd = 0\n",
    "\n",
    "average_pay_price = round(sum(df['payprice'])/df['payprice'].shape[0],0)\n",
    "\n",
    "lower_bound = average_pay_price\n",
    "upper_bound = average_pay_price"
   ]
  },
  {
   "cell_type": "code",
   "execution_count": null,
   "metadata": {},
   "outputs": [],
   "source": [
    "for con_bid in range(30):\n",
    "    \n",
    "    if lower_bound>0:\n",
    "        lower_bound = lower_bound -10\n",
    "    \n",
    "    upper_bound = upper_bound +10\n",
    "    \n",
    "    random_bid = (randint(lower_bound, upper_bound))\n",
    "      \n",
    "    print ('Random Bid:',random_bid)\n",
    "        \n",
    "    # Get number of clicks\n",
    "    successfull_bids = calculate_winning_bids(df,random_bid)\n",
    "    click_const_bid = sum(successfull_bids.iloc[0:calculate_budget(successfull_bids),:]['click'])\n",
    "\n",
    "    print('Number of Clicks:',click_rand_bid)\n",
    "    print('Lower Bound', lower_bound)\n",
    "    print('Upper Bound', upper_bound)\n",
    "    print('Optimal Bid: ',random_bid)\n",
    "    print('-----------------------')\n",
    "\n",
    "     #Store optimal values achieved\n",
    "    if max_num_clicks_rnd < click_rand_bid:\n",
    "        max_num_clicks_rnd = click_rand_bid\n",
    "        optimal_bid_rnd = random_bid\n",
    "        "
   ]
  },
  {
   "cell_type": "markdown",
   "metadata": {},
   "source": [
    "## Constant Bid for each Advertiser"
   ]
  },
  {
   "cell_type": "code",
   "execution_count": null,
   "metadata": {},
   "outputs": [],
   "source": [
    "#Constants\n",
    "con_bid = 5\n",
    "budget = 6250000\n",
    "max_num_clicks = 0\n",
    "optimal_bid = 0\n",
    "\n",
    "dicts = {}\n",
    "keys = advertisers\n",
    "\n",
    "for i in keys:\n",
    "        dicts[i] = [0,0]\n",
    "print(dicts)"
   ]
  },
  {
   "cell_type": "code",
   "execution_count": null,
   "metadata": {},
   "outputs": [],
   "source": [
    "for con_bid in range(300):\n",
    "    \n",
    "    print ('Constant Bid:',con_bid)\n",
    "\n",
    "    for adv in advertisers:\n",
    "        \n",
    "        # Get number of clicks\n",
    "        successfull_bids = calculate_winning_bids(df[df['advertiser']==adv],con_bid)\n",
    "        click_const_bid = sum(successfull_bids.iloc[0:calculate_budget(successfull_bids),:]['click'])\n",
    "\n",
    "        print('Advertiser: ',adv)\n",
    "        print('Number of Clicks:',click_const_bid)\n",
    "        print('Optimal Bid: ',con_bid)\n",
    "        print('-----------------------')\n",
    "        \n",
    "        if dicts[adv][0] < click_const_bid:\n",
    "            dicts[adv][0] = click_const_bid\n",
    "            dicts[adv][1] = con_bid\n",
    "        \n",
    "    con_bid = con_bid + 1\n",
    "    "
   ]
  },
  {
   "cell_type": "markdown",
   "metadata": {},
   "source": [
    "## Random Bid for each Advertiser"
   ]
  },
  {
   "cell_type": "code",
   "execution_count": null,
   "metadata": {},
   "outputs": [],
   "source": [
    "#Constants\n",
    "max_num_clicks_rnd = 0\n",
    "optimal_bid_rnd = 0\n",
    "lower_bound = 0\n",
    "upper_bound = 5\n",
    "\n",
    "average_pay_price = round(sum(df['payprice'])/df['payprice'].shape[0],0)\n",
    "\n",
    "dicts = {}\n",
    "keys = advertisers\n",
    "\n",
    "for i in keys:\n",
    "        dicts[i] = [0,0]\n",
    "print(dicts)"
   ]
  },
  {
   "cell_type": "code",
   "execution_count": null,
   "metadata": {},
   "outputs": [],
   "source": [
    "for i in range(30):\n",
    "    \n",
    "    if lower_bound>0:\n",
    "        lower_bound = lower_bound + 10\n",
    "        \n",
    "    upper_bound = upper_bound + 10\n",
    "    \n",
    "    random_bid = (randint(lower_bound, upper_bound))\n",
    "    \n",
    "    \n",
    "    print ('Random Bid:',random_bid)\n",
    "\n",
    "    for adv in advertisers:\n",
    "        \n",
    "        # Get number of clicks\n",
    "        successfull_bids = calculate_winning_bids(df[df['advertiser']==adv],random_bid)\n",
    "        click_rand_bid = sum(successfull_bids.iloc[0:calculate_budget(successfull_bids),:]['click'])\n",
    "\n",
    "        print('Advertiser: ',adv)\n",
    "        print('Number of Clicks:',click_rand_bid)\n",
    "        print('Lower Bound', lower_bound)\n",
    "        print('Upper Bound', upper_bound)\n",
    "        print('Optimal Bid: ',random_bid)\n",
    "        print('-----------------------')\n",
    "        \n",
    "        if dicts[adv][0] < click_rand_bid:\n",
    "            dicts[adv][0] = click_rand_bid\n",
    "            dicts[adv][1] = random_bid\n",
    "        "
   ]
  }
 ],
 "metadata": {
  "kernelspec": {
   "display_name": "Python [conda env:Python3]",
   "language": "python",
   "name": "conda-env-Python3-py"
  },
  "language_info": {
   "codemirror_mode": {
    "name": "ipython",
    "version": 3
   },
   "file_extension": ".py",
   "mimetype": "text/x-python",
   "name": "python",
   "nbconvert_exporter": "python",
   "pygments_lexer": "ipython3",
   "version": "3.6.4"
  }
 },
 "nbformat": 4,
 "nbformat_minor": 2
}
