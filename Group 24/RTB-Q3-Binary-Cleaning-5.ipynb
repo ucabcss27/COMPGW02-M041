{
 "cells": [
  {
   "cell_type": "code",
   "execution_count": 1,
   "metadata": {},
   "outputs": [
    {
     "name": "stdout",
     "output_type": "stream",
     "text": [
      "Python: 3.6.4 |Anaconda custom (64-bit)| (default, Jan 16 2018, 18:10:19) \n",
      "[GCC 7.2.0]\n",
      "numpy: 1.14.2\n",
      "matplotlib: 2.1.2\n",
      "pandas: 0.22.0\n"
     ]
    }
   ],
   "source": [
    "# Python version\n",
    "import sys\n",
    "print('Python: {}'.format(sys.version))\n",
    "import numpy as np\n",
    "print('numpy: {}'.format(np.__version__))\n",
    "# matplotlib\n",
    "import matplotlib\n",
    "print('matplotlib: {}'.format(matplotlib.__version__))\n",
    "import matplotlib.pyplot as plt\n",
    "# pandas\n",
    "import pandas as pd\n",
    "print('pandas: {}'.format(pd.__version__))\n",
    "import pickle as pickle\n",
    "from sklearn.preprocessing import OneHotEncoder\n",
    "from sklearn.datasets import make_classification\n",
    "from sklearn.decomposition import PCA\n",
    "from imblearn.under_sampling import RandomUnderSampler"
   ]
  },
  {
   "cell_type": "code",
   "execution_count": 3,
   "metadata": {},
   "outputs": [],
   "source": [
    "def pickle_data(filename, data):\n",
    "\n",
    "    fileObject = open('PickleData/'+filename,'wb') \n",
    "    # this writes the object a to the\n",
    "    # file named 'testfile'\n",
    "    pickle.dump(data,fileObject) \n",
    "\n",
    "    # here we close the fileObject\n",
    "    fileObject.close()\n",
    "    \n",
    "def load_pickle_data(filename):\n",
    "    # we open the file for reading\n",
    "    fileObject = open('PickleData/'+filename,'rb')  \n",
    "    # load the object from the file into var b\n",
    "    return pickle.load(fileObject)"
   ]
  },
  {
   "cell_type": "code",
   "execution_count": 4,
   "metadata": {},
   "outputs": [],
   "source": [
    "# Read training set\n",
    "df = pd.read_csv('Data/train.csv')"
   ]
  },
  {
   "cell_type": "code",
   "execution_count": 5,
   "metadata": {},
   "outputs": [],
   "source": [
    "# Read test set\n",
    "df_val = pd.read_csv('Data/validation.csv')"
   ]
  },
  {
   "cell_type": "markdown",
   "metadata": {},
   "source": [
    "## Data Processing: Binary Dataset"
   ]
  },
  {
   "cell_type": "markdown",
   "metadata": {},
   "source": [
    "#### Helper Functions"
   ]
  },
  {
   "cell_type": "code",
   "execution_count": 8,
   "metadata": {},
   "outputs": [],
   "source": [
    "def preprocess_dataframe(x):\n",
    "    \n",
    "    # Drop unrequired features\n",
    "    x = x.drop(['bidid','userid','IP','domain','url','urlid','slotid','slotprice','creative','bidprice','payprice','keypage'],axis=1)\n",
    "    \n",
    "    # Split user agent into two features, platform and browser\n",
    "    x['platform'] = x['useragent'].map(lambda x: str(x).split('_')[0])   \n",
    "    x['browser'] = x['useragent'].map(lambda x: str(x).split('_')[1])\n",
    "    \n",
    "    # Drop User Agent\n",
    "    x = x.drop(['useragent'],axis=1)\n",
    "    \n",
    "    x = x.join(x['usertag'].str.get_dummies(','))\n",
    "    \n",
    "    # Drop User Tag\n",
    "    x = x.drop(['usertag'],axis=1)\n",
    "    \n",
    "    x.loc[x['slotvisibility'] == 'FirstView', 'slotvisibility'] = 1\n",
    "    x.loc[x['slotvisibility'] == 'SecondView', 'slotvisibility'] = 2\n",
    "    x.loc[x['slotvisibility'] == 'ThirdView', 'slotvisibility'] = 3\n",
    "    x.loc[x['slotvisibility'] == 'FourthView', 'slotvisibility'] = 4\n",
    "    x.loc[x['slotvisibility'] == 'FifthView', 'slotvisibility'] = 5\n",
    "    x.loc[x['slotvisibility'] == 'OtherView', 'slotvisibility'] = 6\n",
    "    x.loc[x['slotvisibility'] == 'Na', 'slotvisibility'] = 0\n",
    "    x.loc[x['slotvisibility'] == '255', 'slotvisibility'] = 255\n",
    "    \n",
    "    x['adexchange'].fillna(0,inplace=True)\n",
    "    \n",
    "    x = x.join(pd.get_dummies(x['weekday'],prefix='weekday'))\n",
    "    x = x.join(pd.get_dummies(x['hour'],prefix='hour'))\n",
    "    x = x.join(pd.get_dummies(x['region'],prefix='region'))\n",
    "    x = x.join(pd.get_dummies(x['city'],prefix='city'))\n",
    "    x = x.join(pd.get_dummies(x['adexchange'],prefix='adexchange'))\n",
    "    x = x.join(pd.get_dummies(x['slotwidth'],prefix='slotwidth'))\n",
    "    x = x.join(pd.get_dummies(x['slotheight'],prefix='slotheight'))\n",
    "    x = x.join(pd.get_dummies(x['slotvisibility'],prefix='slotvisibility'))\n",
    "    x = x.join(pd.get_dummies(x['slotformat'],prefix='slotformat'))\n",
    "    x = x.join(pd.get_dummies(x['advertiser'],prefix='advertiser'))\n",
    "    x = x.join(pd.get_dummies(x['platform'],prefix='platform'))\n",
    "    x = x.join(pd.get_dummies(x['browser'],prefix='browser'))\n",
    "    \n",
    "    \n",
    "    # Drop unrequired features\n",
    "    x = x.drop(['weekday','hour','region','city','adexchange','slotwidth','slotheight','slotvisibility','slotformat','advertiser','platform','browser'],axis=1)\n",
    "    \n",
    "    print('Data Preprocessed')\n",
    "\n",
    "    return x\n",
    "    "
   ]
  },
  {
   "cell_type": "code",
   "execution_count": 6,
   "metadata": {},
   "outputs": [],
   "source": [
    "y = df_val['click']\n",
    "x = df_val.drop(['click'], axis=1)"
   ]
  },
  {
   "cell_type": "code",
   "execution_count": 9,
   "metadata": {},
   "outputs": [
    {
     "name": "stdout",
     "output_type": "stream",
     "text": [
      "Data Preprocessed\n"
     ]
    }
   ],
   "source": [
    "x = preprocess_dataframe(x)"
   ]
  },
  {
   "cell_type": "code",
   "execution_count": null,
   "metadata": {},
   "outputs": [],
   "source": [
    "#Pickle binary dataframe\n",
    "pickle_data('binary_x_train',x)\n",
    "#Pickle binary dataframe\n",
    "pickle_data('binary_y_train',y)"
   ]
  },
  {
   "cell_type": "code",
   "execution_count": 9,
   "metadata": {},
   "outputs": [],
   "source": [
    "x = load_pickle_data('binary_x_train')\n",
    "y = load_pickle_data('binary_y_train')"
   ]
  },
  {
   "cell_type": "code",
   "execution_count": 10,
   "metadata": {},
   "outputs": [
    {
     "data": {
      "text/html": [
       "<div>\n",
       "<style scoped>\n",
       "    .dataframe tbody tr th:only-of-type {\n",
       "        vertical-align: middle;\n",
       "    }\n",
       "\n",
       "    .dataframe tbody tr th {\n",
       "        vertical-align: top;\n",
       "    }\n",
       "\n",
       "    .dataframe thead th {\n",
       "        text-align: right;\n",
       "    }\n",
       "</style>\n",
       "<table border=\"1\" class=\"dataframe\">\n",
       "  <thead>\n",
       "    <tr style=\"text-align: right;\">\n",
       "      <th></th>\n",
       "      <th>10006</th>\n",
       "      <th>10024</th>\n",
       "      <th>10031</th>\n",
       "      <th>10048</th>\n",
       "      <th>10052</th>\n",
       "      <th>10057</th>\n",
       "      <th>10059</th>\n",
       "      <th>10063</th>\n",
       "      <th>10067</th>\n",
       "      <th>10074</th>\n",
       "      <th>...</th>\n",
       "      <th>platform_windows</th>\n",
       "      <th>browser_chrome</th>\n",
       "      <th>browser_firefox</th>\n",
       "      <th>browser_ie</th>\n",
       "      <th>browser_maxthon</th>\n",
       "      <th>browser_opera</th>\n",
       "      <th>browser_other</th>\n",
       "      <th>browser_safari</th>\n",
       "      <th>browser_sogou</th>\n",
       "      <th>browser_theworld</th>\n",
       "    </tr>\n",
       "  </thead>\n",
       "  <tbody>\n",
       "    <tr>\n",
       "      <th>0</th>\n",
       "      <td>0</td>\n",
       "      <td>0</td>\n",
       "      <td>0</td>\n",
       "      <td>0</td>\n",
       "      <td>0</td>\n",
       "      <td>0</td>\n",
       "      <td>0</td>\n",
       "      <td>0</td>\n",
       "      <td>0</td>\n",
       "      <td>0</td>\n",
       "      <td>...</td>\n",
       "      <td>1</td>\n",
       "      <td>0</td>\n",
       "      <td>0</td>\n",
       "      <td>1</td>\n",
       "      <td>0</td>\n",
       "      <td>0</td>\n",
       "      <td>0</td>\n",
       "      <td>0</td>\n",
       "      <td>0</td>\n",
       "      <td>0</td>\n",
       "    </tr>\n",
       "    <tr>\n",
       "      <th>1</th>\n",
       "      <td>1</td>\n",
       "      <td>1</td>\n",
       "      <td>0</td>\n",
       "      <td>0</td>\n",
       "      <td>1</td>\n",
       "      <td>1</td>\n",
       "      <td>0</td>\n",
       "      <td>1</td>\n",
       "      <td>0</td>\n",
       "      <td>0</td>\n",
       "      <td>...</td>\n",
       "      <td>1</td>\n",
       "      <td>1</td>\n",
       "      <td>0</td>\n",
       "      <td>0</td>\n",
       "      <td>0</td>\n",
       "      <td>0</td>\n",
       "      <td>0</td>\n",
       "      <td>0</td>\n",
       "      <td>0</td>\n",
       "      <td>0</td>\n",
       "    </tr>\n",
       "    <tr>\n",
       "      <th>2</th>\n",
       "      <td>1</td>\n",
       "      <td>1</td>\n",
       "      <td>0</td>\n",
       "      <td>0</td>\n",
       "      <td>0</td>\n",
       "      <td>0</td>\n",
       "      <td>1</td>\n",
       "      <td>1</td>\n",
       "      <td>0</td>\n",
       "      <td>0</td>\n",
       "      <td>...</td>\n",
       "      <td>1</td>\n",
       "      <td>0</td>\n",
       "      <td>0</td>\n",
       "      <td>1</td>\n",
       "      <td>0</td>\n",
       "      <td>0</td>\n",
       "      <td>0</td>\n",
       "      <td>0</td>\n",
       "      <td>0</td>\n",
       "      <td>0</td>\n",
       "    </tr>\n",
       "    <tr>\n",
       "      <th>3</th>\n",
       "      <td>1</td>\n",
       "      <td>0</td>\n",
       "      <td>0</td>\n",
       "      <td>0</td>\n",
       "      <td>0</td>\n",
       "      <td>1</td>\n",
       "      <td>0</td>\n",
       "      <td>1</td>\n",
       "      <td>0</td>\n",
       "      <td>0</td>\n",
       "      <td>...</td>\n",
       "      <td>1</td>\n",
       "      <td>1</td>\n",
       "      <td>0</td>\n",
       "      <td>0</td>\n",
       "      <td>0</td>\n",
       "      <td>0</td>\n",
       "      <td>0</td>\n",
       "      <td>0</td>\n",
       "      <td>0</td>\n",
       "      <td>0</td>\n",
       "    </tr>\n",
       "    <tr>\n",
       "      <th>4</th>\n",
       "      <td>1</td>\n",
       "      <td>0</td>\n",
       "      <td>0</td>\n",
       "      <td>0</td>\n",
       "      <td>0</td>\n",
       "      <td>0</td>\n",
       "      <td>0</td>\n",
       "      <td>1</td>\n",
       "      <td>0</td>\n",
       "      <td>0</td>\n",
       "      <td>...</td>\n",
       "      <td>1</td>\n",
       "      <td>1</td>\n",
       "      <td>0</td>\n",
       "      <td>0</td>\n",
       "      <td>0</td>\n",
       "      <td>0</td>\n",
       "      <td>0</td>\n",
       "      <td>0</td>\n",
       "      <td>0</td>\n",
       "      <td>0</td>\n",
       "    </tr>\n",
       "  </tbody>\n",
       "</table>\n",
       "<p>5 rows × 583 columns</p>\n",
       "</div>"
      ],
      "text/plain": [
       "   10006  10024  10031  10048  10052  10057  10059  10063  10067  10074  \\\n",
       "0      0      0      0      0      0      0      0      0      0      0   \n",
       "1      1      1      0      0      1      1      0      1      0      0   \n",
       "2      1      1      0      0      0      0      1      1      0      0   \n",
       "3      1      0      0      0      0      1      0      1      0      0   \n",
       "4      1      0      0      0      0      0      0      1      0      0   \n",
       "\n",
       "         ...         platform_windows  browser_chrome  browser_firefox  \\\n",
       "0        ...                        1               0                0   \n",
       "1        ...                        1               1                0   \n",
       "2        ...                        1               0                0   \n",
       "3        ...                        1               1                0   \n",
       "4        ...                        1               1                0   \n",
       "\n",
       "   browser_ie  browser_maxthon  browser_opera  browser_other  browser_safari  \\\n",
       "0           1                0              0              0               0   \n",
       "1           0                0              0              0               0   \n",
       "2           1                0              0              0               0   \n",
       "3           0                0              0              0               0   \n",
       "4           0                0              0              0               0   \n",
       "\n",
       "   browser_sogou  browser_theworld  \n",
       "0              0                 0  \n",
       "1              0                 0  \n",
       "2              0                 0  \n",
       "3              0                 0  \n",
       "4              0                 0  \n",
       "\n",
       "[5 rows x 583 columns]"
      ]
     },
     "execution_count": 10,
     "metadata": {},
     "output_type": "execute_result"
    }
   ],
   "source": [
    "x.head(5)"
   ]
  },
  {
   "cell_type": "markdown",
   "metadata": {},
   "source": [
    "## Option: Random Under Sample"
   ]
  },
  {
   "cell_type": "code",
   "execution_count": 11,
   "metadata": {},
   "outputs": [],
   "source": [
    "# Instanciate a PCA object for the sake of easy visualisation\n",
    "pca = PCA(n_components=2)\n",
    "# Fit and transform x to visualise inside a 2D feature space\n",
    "X_vis = pca.fit_transform(x)"
   ]
  },
  {
   "cell_type": "code",
   "execution_count": 14,
   "metadata": {},
   "outputs": [],
   "source": [
    "# Apply the random under-sampling\n",
    "rus = RandomUnderSampler(return_indices=True)\n",
    "X_resampled, y_resampled, idx_resampled = rus.fit_sample(x, y)\n",
    "X_res_vis = pca.transform(X_resampled)"
   ]
  },
  {
   "cell_type": "code",
   "execution_count": null,
   "metadata": {},
   "outputs": [],
   "source": [
    "#Pickle binary dataframe\n",
    "pickle_data('binary_x_train_undersampled',X_resampled)\n",
    "#Pickle binary dataframe\n",
    "pickle_data('binary_y_train_undersampled',y_resampled)"
   ]
  },
  {
   "cell_type": "code",
   "execution_count": 15,
   "metadata": {},
   "outputs": [
    {
     "data": {
      "image/png": "[encoded data removed]",
      "text/plain": [
       "<matplotlib.figure.Figure at 0x7f8aeab41080>"
      ]
     },
     "metadata": {},
     "output_type": "display_data"
    }
   ],
   "source": [
    "fig = plt.figure()\n",
    "ax = fig.add_subplot(1, 1, 1)\n",
    "\n",
    "idx_samples_removed = np.setdiff1d(np.arange(X_vis.shape[0]),\n",
    "                                   idx_resampled)\n",
    "\n",
    "idx_class_0 = y_resampled == 0\n",
    "plt.scatter(X_vis[idx_samples_removed, 0], X_vis[idx_samples_removed, 1],\n",
    "            alpha=.8, label='Removed samples')\n",
    "plt.scatter(X_res_vis[idx_class_0, 0], X_res_vis[idx_class_0, 1],\n",
    "            alpha=.8, label='Class #0')\n",
    "plt.scatter(X_res_vis[~idx_class_0, 0], X_res_vis[~idx_class_0, 1],\n",
    "            alpha=.8, label='Class #1')\n",
    "\n",
    "\n",
    "# make nice plotting\n",
    "ax.spines['top'].set_visible(False)\n",
    "ax.spines['right'].set_visible(False)\n",
    "ax.get_xaxis().tick_bottom()\n",
    "ax.get_yaxis().tick_left()\n",
    "ax.spines['left'].set_position(('outward', 10))\n",
    "ax.spines['bottom'].set_position(('outward', 10))\n",
    "ax.set_xlim([-2, 4])\n",
    "ax.set_ylim([-2, 4])\n",
    "\n",
    "plt.title('Under-sampling using random under-sampling')\n",
    "plt.legend()\n",
    "plt.tight_layout()\n",
    "plt.show()"
   ]
  }
 ],
 "metadata": {
  "kernelspec": {
   "display_name": "Python [conda env:Python3]",
   "language": "python",
   "name": "conda-env-Python3-py"
  },
  "language_info": {
   "codemirror_mode": {
    "name": "ipython",
    "version": 3
   },
   "file_extension": ".py",
   "mimetype": "text/x-python",
   "name": "python",
   "nbconvert_exporter": "python",
   "pygments_lexer": "ipython3",
   "version": "3.6.4"
  }
 },
 "nbformat": 4,
 "nbformat_minor": 2
}
