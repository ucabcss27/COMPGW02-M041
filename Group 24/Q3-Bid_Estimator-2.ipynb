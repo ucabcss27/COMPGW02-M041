{
 "cells": [
  {
   "cell_type": "code",
   "execution_count": 81,
   "metadata": {},
   "outputs": [
    {
     "name": "stdout",
     "output_type": "stream",
     "text": [
      "Python: 3.6.4 |Anaconda custom (64-bit)| (default, Jan 16 2018, 18:10:19) \n",
      "[GCC 7.2.0]\n",
      "scipy: 1.0.0\n",
      "numpy: 1.14.0\n",
      "matplotlib: 2.1.2\n",
      "pandas: 0.22.0\n",
      "sklearn: 0.19.1\n"
     ]
    }
   ],
   "source": [
    "# Python version\n",
    "import sys\n",
    "print('Python: {}'.format(sys.version))\n",
    "# scipy\n",
    "import scipy\n",
    "print('scipy: {}'.format(scipy.__version__))\n",
    "# numpy\n",
    "import numpy as np\n",
    "print('numpy: {}'.format(np.__version__))\n",
    "# matplotlib\n",
    "import matplotlib\n",
    "print('matplotlib: {}'.format(matplotlib.__version__))\n",
    "import matplotlib.pyplot as plt\n",
    "# pandas\n",
    "import pandas as pd\n",
    "print('pandas: {}'.format(pd.__version__))\n",
    "# scikit-learn\n",
    "import sklearn\n",
    "print('sklearn: {}'.format(sklearn.__version__))\n",
    "import pickle as pickle"
   ]
  },
  {
   "cell_type": "code",
   "execution_count": 82,
   "metadata": {},
   "outputs": [],
   "source": [
    "def pickle_data(filename, data):\n",
    "\n",
    "    fileObject = open('PickleData/'+filename,'wb') \n",
    "    # this writes the object a to the\n",
    "    # file named 'testfile'\n",
    "    pickle.dump(data,fileObject) \n",
    "\n",
    "    # here we close the fileObject\n",
    "    fileObject.close()\n",
    "    \n",
    "def load_pickle_data(filename):\n",
    "    # we open the file for reading\n",
    "    fileObject = open('PickleData/'+filename,'rb')  \n",
    "    # load the object from the file into var b\n",
    "    return pickle.load(fileObject)"
   ]
  },
  {
   "cell_type": "code",
   "execution_count": 83,
   "metadata": {},
   "outputs": [],
   "source": [
    "#Load validation set predictions from logistic regr model on binary dataset\n",
    "pred_y = load_pickle_data('pred_y_logistic_binary')"
   ]
  },
  {
   "cell_type": "code",
   "execution_count": 4,
   "metadata": {},
   "outputs": [],
   "source": [
    "#Load validation Dataset\n",
    "df_val = pd.read_csv('Data/validation.csv')"
   ]
  },
  {
   "cell_type": "code",
   "execution_count": 84,
   "metadata": {},
   "outputs": [],
   "source": [
    "#Load training Dataset\n",
    "df_train = pd.read_csv('Data/train.csv')"
   ]
  },
  {
   "cell_type": "code",
   "execution_count": 85,
   "metadata": {},
   "outputs": [],
   "source": [
    "#Load training Dataset\n",
    "df_test = pd.read_csv('Data/test.csv')"
   ]
  },
  {
   "cell_type": "markdown",
   "metadata": {},
   "source": [
    "#### Using Formula bid = base_bid x pCTR/avgCTR"
   ]
  },
  {
   "cell_type": "code",
   "execution_count": 86,
   "metadata": {},
   "outputs": [],
   "source": [
    "base_bid = sum(df_train['payprice'])/df_train.shape[0]\n",
    "avg_ctr = df_train[df_train['click']==1].shape[0]/df_train.shape[0]*100\n",
    "p_ctr = pred_y\n",
    " "
   ]
  },
  {
   "cell_type": "code",
   "execution_count": 87,
   "metadata": {},
   "outputs": [],
   "source": [
    "bid = base_bid * p_ctr/avg_ctr"
   ]
  },
  {
   "cell_type": "code",
   "execution_count": 88,
   "metadata": {},
   "outputs": [
    {
     "data": {
      "text/plain": [
       "78.15141623895867"
      ]
     },
     "execution_count": 88,
     "metadata": {},
     "output_type": "execute_result"
    }
   ],
   "source": [
    "base_bid"
   ]
  },
  {
   "cell_type": "code",
   "execution_count": 17,
   "metadata": {},
   "outputs": [],
   "source": [
    "# df_val['predbid'] = bid\n",
    "# df_val['predclick'] = (p_ctr > 0.6) * 1\n",
    "df_test['predbid'] = bid\n",
    "df_test['predclick'] = (p_ctr > 0.6) * 1"
   ]
  },
  {
   "cell_type": "code",
   "execution_count": null,
   "metadata": {},
   "outputs": [],
   "source": [
    "df_val.sort(['predbid'], ascending=[1, 0])"
   ]
  },
  {
   "cell_type": "code",
   "execution_count": 56,
   "metadata": {},
   "outputs": [],
   "source": [
    "budget = 6250000\n",
    "\n",
    "budget_list = []\n",
    "\n",
    "def calculate_budget(data):\n",
    "    \n",
    "    # Running budget\n",
    "    budget_spent = 0\n",
    "    \n",
    "    index = 0\n",
    "\n",
    "    for index, row in data.iterrows():\n",
    "\n",
    "    #         Budget exceeded\n",
    "        if (budget_spent >= budget):\n",
    "            break\n",
    "\n",
    "    #       Update budget\n",
    "        budget_spent = budget_spent + row['payprice']\n",
    "\n",
    "        \n",
    "    print('Budget Spent:',budget_spent)\n",
    "    budget_list.append(budget_spent)\n",
    "    return index\n"
   ]
  },
  {
   "cell_type": "code",
   "execution_count": 7,
   "metadata": {},
   "outputs": [],
   "source": [
    "def calculate_winning_bids(data):\n",
    "    \n",
    "    success_bid = data.loc[data['predclick']  & (data['predbid'] > data['payprice'])]\n",
    "    success_bid = success_bid.reset_index(drop=True)\n",
    "    \n",
    "    return success_bid\n",
    "\n"
   ]
  },
  {
   "cell_type": "code",
   "execution_count": 38,
   "metadata": {},
   "outputs": [],
   "source": [
    "successfull_bids = calculate_winning_bids(df_val)\n"
   ]
  },
  {
   "cell_type": "markdown",
   "metadata": {},
   "source": [
    "### Optimising Base Bid Value"
   ]
  },
  {
   "cell_type": "code",
   "execution_count": 53,
   "metadata": {},
   "outputs": [
    {
     "name": "stdout",
     "output_type": "stream",
     "text": [
      "Impression with clicks won: 165\n"
     ]
    }
   ],
   "source": [
    "print('Impression with clicks won:',click_const_bid)"
   ]
  },
  {
   "cell_type": "code",
   "execution_count": 58,
   "metadata": {},
   "outputs": [
    {
     "name": "stdout",
     "output_type": "stream",
     "text": [
      "0\n",
      "Budget Spent: 802351\n",
      "Base Bid: 5\n",
      "Impression with clicks won: 46\n",
      "------------------\n",
      "1\n",
      "Budget Spent: 2806462\n",
      "Base Bid: 10\n",
      "Impression with clicks won: 118\n",
      "------------------\n",
      "2\n",
      "Budget Spent: 4034267\n",
      "Base Bid: 15\n",
      "Impression with clicks won: 143\n",
      "------------------\n",
      "3\n",
      "Budget Spent: 5031841\n",
      "Base Bid: 20\n",
      "Impression with clicks won: 158\n",
      "------------------\n",
      "4\n",
      "Budget Spent: 5804783\n",
      "Base Bid: 25\n",
      "Impression with clicks won: 174\n",
      "------------------\n",
      "5\n",
      "Budget Spent: 6221621\n",
      "Base Bid: 30\n",
      "Impression with clicks won: 179\n",
      "------------------\n",
      "6\n",
      "Budget Spent: 6250037\n",
      "Base Bid: 35\n",
      "Impression with clicks won: 173\n",
      "------------------\n",
      "7\n",
      "Budget Spent: 6250071\n",
      "Base Bid: 40\n",
      "Impression with clicks won: 171\n",
      "------------------\n",
      "8\n",
      "Budget Spent: 6250002\n",
      "Base Bid: 45\n",
      "Impression with clicks won: 170\n",
      "------------------\n",
      "9\n",
      "Budget Spent: 6250002\n",
      "Base Bid: 50\n",
      "Impression with clicks won: 170\n",
      "------------------\n"
     ]
    }
   ],
   "source": [
    "base_bid = 0\n",
    "k=0\n",
    "base_bid_list = []\n",
    "clicks_won_list = []\n",
    "\n",
    "for i in range(10):\n",
    "    \n",
    "    print(i)\n",
    "    base_bid = base_bid + (5)\n",
    "    base_bid_list.append(base_bid)\n",
    "    avg_ctr = df_train[df_train['click']==1].shape[0]/df_train.shape[0]*100\n",
    "    p_ctr = pred_y\n",
    "    \n",
    "    bid = base_bid * p_ctr/avg_ctr\n",
    "    \n",
    "    df_val['predbid'] = bid\n",
    "    df_val['predclick'] = (p_ctr > 0.5) * 1\n",
    "\n",
    "    successfull_bids = calculate_winning_bids(df_val)\n",
    "    \n",
    "    click_const_bid = sum(successfull_bids.iloc[0:calculate_budget(successfull_bids),:]['click'])\n",
    "    clicks_won_list.append(click_const_bid)\n",
    "    print('Base Bid:',base_bid)\n",
    "    print('Impression with clicks won:',click_const_bid)\n",
    "    print('------------------')"
   ]
  },
  {
   "cell_type": "code",
   "execution_count": 59,
   "metadata": {},
   "outputs": [
    {
     "data": {
      "text/plain": [
       "[5, 10, 15, 20, 25, 30, 35, 40, 45, 50]"
      ]
     },
     "execution_count": 59,
     "metadata": {},
     "output_type": "execute_result"
    }
   ],
   "source": [
    "base_bid_list"
   ]
  },
  {
   "cell_type": "code",
   "execution_count": 60,
   "metadata": {},
   "outputs": [
    {
     "data": {
      "text/plain": [
       "[46, 118, 143, 158, 174, 179, 173, 171, 170, 170]"
      ]
     },
     "execution_count": 60,
     "metadata": {},
     "output_type": "execute_result"
    }
   ],
   "source": [
    "clicks_won_list"
   ]
  },
  {
   "cell_type": "code",
   "execution_count": 61,
   "metadata": {},
   "outputs": [
    {
     "data": {
      "text/plain": [
       "[802351,\n",
       " 2806462,\n",
       " 4034267,\n",
       " 5031841,\n",
       " 5804783,\n",
       " 6221621,\n",
       " 6250037,\n",
       " 6250071,\n",
       " 6250002,\n",
       " 6250002]"
      ]
     },
     "execution_count": 61,
     "metadata": {},
     "output_type": "execute_result"
    }
   ],
   "source": [
    "budget_list"
   ]
  },
  {
   "cell_type": "code",
   "execution_count": 80,
   "metadata": {},
   "outputs": [
    {
     "data": {
      "image/png": "[encoded data removed]",
      "text/plain": [
       "<matplotlib.figure.Figure at 0x7efc04f4b828>"
      ]
     },
     "metadata": {},
     "output_type": "display_data"
    }
   ],
   "source": [
    "plt.figure(num=None, figsize=(8, 6), dpi=80, facecolor='w', edgecolor='k')\n",
    "plt.plot(budget_list, clicks_won_list, 'r',linewidth=2)\n",
    "plt.xlabel('Base Bid')\n",
    "plt.ylabel('Num Clicks Won')\n",
    "\n",
    "plt.title('Base Bid Effect on Clicks Won')\n",
    "plt.show()"
   ]
  }
 ],
 "metadata": {
  "kernelspec": {
   "display_name": "Python [conda env:Python3]",
   "language": "python",
   "name": "conda-env-Python3-py"
  },
  "language_info": {
   "codemirror_mode": {
    "name": "ipython",
    "version": 3
   },
   "file_extension": ".py",
   "mimetype": "text/x-python",
   "name": "python",
   "nbconvert_exporter": "python",
   "pygments_lexer": "ipython3",
   "version": "3.6.4"
  }
 },
 "nbformat": 4,
 "nbformat_minor": 2
}
